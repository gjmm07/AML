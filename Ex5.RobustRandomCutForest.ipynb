{
 "cells": [
  {
   "cell_type": "markdown",
   "id": "090f5923",
   "metadata": {},
   "source": [
    "<img src=\"https://www.th-koeln.de/img/logo.svg\" style=\"float:right;\" width=\"200\">"
   ]
  },
  {
   "cell_type": "markdown",
   "id": "9ab683bd",
   "metadata": {},
   "source": [
    "# 5th exercise: <font color=\"#C70039\">Work with Robust Random Cut Forest (RRCF) algorithms for anomaly detection</font>\n",
    "* Course: AML\n",
    "* Lecturer: <a href=\"https://www.gernotheisenberg.de/\">Gernot Heisenberg</a>\n",
    "* Author of notebook: Finn Heydemann\n",
    "* Date:   28.10.2023\n",
    "\n",
    "<img src=\"https://docs.aws.amazon.com/sagemaker/latest/dg/images/RCF2.jpg\" style=\"float: center;\" width=\"450\">\n",
    "\n",
    "---------------------------------\n",
    "**GENERAL NOTE 1**: \n",
    "Please make sure you are reading the entire notebook, since it contains a lot of information on your tasks (e.g. regarding the set of certain paramaters or a specific computational trick), and the written mark downs as well as comments contain a lot of information on how things work together as a whole. \n",
    "\n",
    "**GENERAL NOTE 2**: \n",
    "* Please, when commenting source code, just use English language only. \n",
    "* When describing an observation please use English language, too.\n",
    "* This applies to all exercises throughout this course.\n",
    "\n",
    "* <font color=red>Install the RRCF package per pip:_$ pip install rrcf_</font>\n",
    "\n",
    "The codes of this exercise is based on the codebase of the following team:\n",
    "\n",
    "_M. Bartos, A. Mullapudi, & S. Troutman, rrcf: Implementation of the Robust Random Cut Forest algorithm for anomaly detection on streams , in: Journal of Open Source Software, The Open Journal, Volume 4, Number 35. 2019_\n",
    "\n",
    "---------------------\n",
    "\n",
    "### <font color=\"ce33ff\">DESCRIPTION</font>:\n",
    "This notebook allows you for learning Amazon's Robust Random Cut Forest algorithm and its implementation for detecting anomalies. The Robust Random Cut Forest Algorithm for anomaly detection was invented by Guha et al. in 2016. Further reading can be found here (&rarr; <a href=\"http://proceedings.mlr.press/v48/guha16.pdf\">paper</a>):\n",
    "\n",
    "_S. Guha, N. Mishra, G. Roy, & O. Schrijvers, Robust random cut forest based anomaly detection on streams, in Proceedings of the 33rd International conference on machine learning, New York, NY, 2016 (pp. 2712-2721)_.\n",
    "\n",
    "-------------------------------------------------------------------------------------------------------------\n",
    "\n",
    "### <font color=\"FFC300\">TASKS</font>:\n",
    "The tasks that you need to work on within this notebook are always indicated below as bullet points. \n",
    "If a task is more challenging and consists of several steps, this is indicated as well. \n",
    "Make sure you have worked down the task list and commented your doings. \n",
    "This should be done by using markdown.<br> \n",
    "<font color=red>Make sure you don't forget to specify your name and your matriculation number in the notebook.</font>\n",
    "\n",
    "**YOUR TASKS in this exercise are as follows**:\n",
    "1. import the notebook to Google Colab or use your local machine.\n",
    "2. make sure you specified you name and your matriculation number in the header below my name and date. \n",
    "    * set the date too and remove mine.\n",
    "3. read the entire notebook carefully \n",
    "    * add comments whereever you feel it necessary for better understanding\n",
    "    * run the notebook for the first time. \n",
    "4. take the three data sets from exercize 1 and apply the RRCF to them.\n",
    "5. interpret the results in writing.\n",
    "-----------------------------------------------------------------------------------"
   ]
  },
  {
   "cell_type": "markdown",
   "id": "33ab5d67",
   "metadata": {},
   "source": [
    "### Robust random cut trees (part I)\n",
    "A RRCT can be instantiated from a point set. Points can also be added and removed from an RRCT."
   ]
  },
  {
   "cell_type": "code",
   "execution_count": 1,
   "id": "79176af3",
   "metadata": {
    "tags": []
   },
   "outputs": [],
   "source": [
    "import numpy as np\n",
    "import rrcf\n",
    "# rrcf is pretty much the same as isolation Forest, but works better on high dimensional data"
   ]
  },
  {
   "cell_type": "markdown",
   "id": "245fffa3",
   "metadata": {},
   "source": [
    "#### A (robust) random cut tree can be instantiated from a point set (n x d)"
   ]
  },
  {
   "cell_type": "code",
   "execution_count": 27,
   "id": "fabbb534",
   "metadata": {
    "tags": []
   },
   "outputs": [
    {
     "name": "stdout",
     "output_type": "stream",
     "text": [
      "─+\n",
      " ├───+\n",
      " │   ├──(9)\n",
      " │   └──(17)\n",
      " └───+\n",
      "     ├───+\n",
      "     │   ├──(15)\n",
      "     │   └──(8)\n",
      "     └───+\n",
      "         ├───+\n",
      "         │   ├───+\n",
      "         │   │   ├───+\n",
      "         │   │   │   ├───+\n",
      "         │   │   │   │   ├───+\n",
      "         │   │   │   │   │   ├───+\n",
      "         │   │   │   │   │   │   ├──(10)\n",
      "         │   │   │   │   │   │   └──(21)\n",
      "         │   │   │   │   │   └───+\n",
      "         │   │   │   │   │       ├──(3)\n",
      "         │   │   │   │   │       └──(16)\n",
      "         │   │   │   │   └───+\n",
      "         │   │   │   │       ├──(12)\n",
      "         │   │   │   │       └──(1)\n",
      "         │   │   │   └───+\n",
      "         │   │   │       ├───+\n",
      "         │   │   │       │   ├──(24)\n",
      "         │   │   │       │   └──(28)\n",
      "         │   │   │       └───+\n",
      "         │   │   │           ├──(13)\n",
      "         │   │   │           └───+\n",
      "         │   │   │               ├──(26)\n",
      "         │   │   │               └──(11)\n",
      "         │   │   └───+\n",
      "         │   │       ├───+\n",
      "         │   │       │   ├──(29)\n",
      "         │   │       │   └───+\n",
      "         │   │       │       ├──(7)\n",
      "         │   │       │       └──(25)\n",
      "         │   │       └──(18)\n",
      "         │   └───+\n",
      "         │       ├───+\n",
      "         │       │   ├──(19)\n",
      "         │       │   └──(0)\n",
      "         │       └──(20)\n",
      "         └───+\n",
      "             ├───+\n",
      "             │   ├──(5)\n",
      "             │   └──(6)\n",
      "             └───+\n",
      "                 ├───+\n",
      "                 │   ├───+\n",
      "                 │   │   ├──(2)\n",
      "                 │   │   └───+\n",
      "                 │   │       ├───+\n",
      "                 │   │       │   ├──(14)\n",
      "                 │   │       │   └──(22)\n",
      "                 │   │       └──(4)\n",
      "                 │   └──(27)\n",
      "                 └──(23)\n",
      "\n"
     ]
    }
   ],
   "source": [
    "X = np.random.randn(30, 2)\n",
    "tree = rrcf.RCTree(X)\n",
    "print(tree)"
   ]
  },
  {
   "cell_type": "markdown",
   "id": "722da09b",
   "metadata": {},
   "source": [
    "#### A random cut tree can also be instantiated with no points.\n",
    "The points can be inserted and removed afterwards."
   ]
  },
  {
   "cell_type": "code",
   "execution_count": 5,
   "id": "708f7688",
   "metadata": {
    "tags": []
   },
   "outputs": [
    {
     "name": "stdout",
     "output_type": "stream",
     "text": [
      "─+\n",
      " ├───+\n",
      " │   ├───+\n",
      " │   │   ├───+\n",
      " │   │   │   ├───+\n",
      " │   │   │   │   ├──(1)\n",
      " │   │   │   │   └──(5)\n",
      " │   │   │   └──(2)\n",
      " │   │   └──(0)\n",
      " │   └──(4)\n",
      " └──(3)\n",
      "\n",
      "─+\n",
      " ├───+\n",
      " │   ├───+\n",
      " │   │   ├───+\n",
      " │   │   │   ├──(1)\n",
      " │   │   │   └──(5)\n",
      " │   │   └──(0)\n",
      " │   └──(4)\n",
      " └──(3)\n",
      "\n"
     ]
    }
   ],
   "source": [
    "tree = rrcf.RCTree()\n",
    "\n",
    "#Inserting points at index i\n",
    "for i in range(6):\n",
    "    x = np.random.randn(2)\n",
    "    #print(\"x=\",x)\n",
    "    tree.insert_point(x, index=i)\n",
    "\n",
    "print(tree)\n",
    "\n",
    "#Deleting points at index i \n",
    "tree.forget_point(2)\n",
    "\n",
    "print(tree)"
   ]
  },
  {
   "cell_type": "markdown",
   "id": "c146466b",
   "metadata": {},
   "source": [
    "### Robust random cut trees (part II)\n",
    "#### Anomaly score\n",
    "The likelihood that a point is an outlier is measured by the so-called <font color=red>collusive displacement (CoDisp)</font> score: if including a new point significantly changes the model's complexity (i.e. bit depth), then that point is more likely to be an outlier."
   ]
  },
  {
   "cell_type": "code",
   "execution_count": 6,
   "id": "220a0621",
   "metadata": {
    "tags": []
   },
   "outputs": [
    {
     "name": "stdout",
     "output_type": "stream",
     "text": [
      "tree.codisp('inlier')= 2.6\n",
      "tree.codisp('outlier')= 22.0\n"
     ]
    }
   ],
   "source": [
    "# Seed the tree with zero-mean, and hence normally distributed data points\n",
    "X = np.random.randn(100,2)\n",
    "tree = rrcf.RCTree(X)\n",
    "\n",
    "# Generate one inlier and one outlier point\n",
    "inlier = np.array([0, 0])\n",
    "outlier = np.array([4, 4])\n",
    "\n",
    "# Insert both points into the tree\n",
    "tree.insert_point(inlier, index='inlier')\n",
    "tree.insert_point(outlier, index='outlier')\n",
    "\n",
    "# Ask for their codisp (anomaly) score\n",
    "print(\"tree.codisp('inlier')=\",tree.codisp('inlier'))\n",
    "print(\"tree.codisp('outlier')=\",tree.codisp('outlier'))"
   ]
  },
  {
   "cell_type": "markdown",
   "id": "f262a7c7",
   "metadata": {},
   "source": [
    "As a rule of thumb:\n",
    "* scores of max(abs(3 * stdev)) are ok\n",
    "* higher scores are an indication of an outlier."
   ]
  },
  {
   "cell_type": "markdown",
   "id": "d12adad7",
   "metadata": {},
   "source": [
    "### Robust random cut trees (part III)\n",
    "#### Batch anomaly detection\n",
    "This example shows how a robust random cut forest can be used to detect outliers in a batch setting. As you already know, outliers correspond to a larger CoDisp score."
   ]
  },
  {
   "cell_type": "code",
   "execution_count": 7,
   "id": "b65ebaf6",
   "metadata": {
    "tags": []
   },
   "outputs": [],
   "source": [
    "import numpy as np\n",
    "import pandas as pd\n",
    "import rrcf"
   ]
  },
  {
   "cell_type": "code",
   "execution_count": 45,
   "id": "6968ec2f",
   "metadata": {
    "tags": []
   },
   "outputs": [
    {
     "name": "stdout",
     "output_type": "stream",
     "text": [
      "[-0.88112577 -0.50367581]\n",
      "[14. 14. 15. ... 15. 13. 14.]\n",
      "AVG_codisp[inlier points]= 5.59\n",
      "AVG_codisp[outlier points]= 73.54\n"
     ]
    }
   ],
   "source": [
    "'''\n",
    "In order to create a random forest, we simply create a list of RCTrees, \n",
    "with each RCTree constructed from a random sample of the input dataset. \n",
    "Let's create a random forest with 100 trees, each containing 256 points \n",
    "from the original sample.\n",
    "'''\n",
    "# Set parameters\n",
    "np.random.seed(0)\n",
    "n = 2010\n",
    "d = 3\n",
    "num_trees = 100\n",
    "tree_size = 256\n",
    "\n",
    "# Generate a random data set\n",
    "X = np.zeros((n, d))\n",
    "X[:1000,0] = 5\n",
    "X[1000:2000,0] = -5\n",
    "X += 0.01*np.random.randn(*X.shape)\n",
    "\n",
    "print(x)\n",
    "# Construct forest\n",
    "forest = []\n",
    "while len(forest) < num_trees:\n",
    "    # Select random subsets of points uniformly from point set\n",
    "    ixs = np.random.choice(n, size=(n // tree_size, tree_size),\n",
    "                           replace=False)\n",
    "    # Add sampled trees to forest\n",
    "    trees = [rrcf.RCTree(X[ix], index_labels=ix) for ix in ixs]\n",
    "    forest += trees\n",
    "\n",
    "'''\n",
    "Finally, to determine outliers we compute the average codisp \n",
    "over all trees for each point in the original sample.\n",
    "'''\n",
    "# Compute average CoDisp\n",
    "avg_codisp = pd.Series(0.0, index=np.arange(n))\n",
    "index = np.zeros(n)\n",
    "for tree in forest:\n",
    "    codisp = pd.Series({leaf : tree.codisp(leaf) for leaf in tree.leaves})\n",
    "    avg_codisp[codisp.index] += codisp\n",
    "    np.add.at(index, codisp.index.values, 1)\n",
    "    \n",
    "avg_codisp /= index\n",
    "\n",
    "'''Now, print the average codisp for each set of points.'''\n",
    "# for the inlier points:\n",
    "print(\"AVG_codisp[inlier points]=\",round(avg_codisp[:-10].mean(),2))\n",
    "# for the outlier points:\n",
    "print(\"AVG_codisp[outlier points]=\",round(avg_codisp[-10:].mean(),2))"
   ]
  },
  {
   "cell_type": "code",
   "execution_count": 50,
   "id": "82e3fade",
   "metadata": {
    "tags": []
   },
   "outputs": [
    {
     "name": "stdout",
     "output_type": "stream",
     "text": [
      "Is outlier?\n",
      " 0       False\n",
      "1       False\n",
      "2       False\n",
      "3       False\n",
      "4       False\n",
      "        ...  \n",
      "2005     True\n",
      "2006     True\n",
      "2007     True\n",
      "2008     True\n",
      "2009     True\n",
      "Length: 2010, dtype: bool\n",
      "0        9.421925\n",
      "1       17.504236\n",
      "2        3.578805\n",
      "3        5.145816\n",
      "4        3.527215\n",
      "          ...    \n",
      "2005    84.226190\n",
      "2006    68.506410\n",
      "2007    68.538889\n",
      "2008    76.230769\n",
      "2009    59.571429\n",
      "Length: 2010, dtype: float64\n"
     ]
    }
   ],
   "source": [
    "'''\n",
    "Note that the outlier points again have a larger codisp. \n",
    "To classify the original points into inlier and outlier classes, \n",
    "perform a simple threshold test on the codisp result.\n",
    "'''\n",
    "# For example:\n",
    "print(\"Is outlier?\\n\",avg_codisp > avg_codisp.quantile(0.99))"
   ]
  },
  {
   "cell_type": "markdown",
   "id": "39476a29",
   "metadata": {},
   "source": [
    "### Robust random cut trees (part IV)\n",
    "#### Streaming anomaly detection\n",
    "This example shows how the algorithm can be used to detect anomalies in streaming time series data."
   ]
  },
  {
   "cell_type": "code",
   "execution_count": 17,
   "id": "7338ba23",
   "metadata": {
    "tags": []
   },
   "outputs": [],
   "source": [
    "import numpy as np\n",
    "import rrcf\n",
    "\n",
    "# Generate a data set (sine wave with an anomaly inside)\n",
    "n = 730\n",
    "A = 50\n",
    "center = 100\n",
    "phi = 30\n",
    "T = 2*np.pi/100\n",
    "t = np.arange(n)\n",
    "sin = A*np.sin(T*t-phi*T) + center\n",
    "sin[235:255] = 80\n",
    "\n",
    "# Set tree parameters\n",
    "num_trees = 40\n",
    "shingle_size = 4\n",
    "tree_size = 256\n",
    "\n",
    "# Construct again a forest of empty trees\n",
    "forest = []\n",
    "for _ in range(num_trees):\n",
    "    tree = rrcf.RCTree()\n",
    "    forest.append(tree)\n",
    "\n",
    "# Insert streaming points into tree and compute anomaly score\n",
    "# Use the \"shingle\" generator to create a rolling window\n",
    "points = rrcf.shingle(sin, size=shingle_size)\n",
    "\n",
    "# Create a dict to store anomaly score of each point\n",
    "avg_codisp = {}\n",
    "\n",
    "# For each shingle...\n",
    "for index, point in enumerate(points):\n",
    "    # For each tree in the forest...\n",
    "    for tree in forest:\n",
    "        # If tree is above permitted size, drop the oldest point (FIFO)\n",
    "        if len(tree.leaves) > tree_size:\n",
    "            tree.forget_point(index - tree_size)\n",
    "        # Insert the new point into the tree\n",
    "        tree.insert_point(point, index=index)\n",
    "        # Compute codisp on the new point and take the average among all trees\n",
    "        if not index in avg_codisp:\n",
    "            avg_codisp[index] = 0\n",
    "        avg_codisp[index] += tree.codisp(index) / num_trees"
   ]
  },
  {
   "cell_type": "code",
   "execution_count": 20,
   "id": "7b7f9197",
   "metadata": {
    "tags": []
   },
   "outputs": [
    {
     "data": {
      "image/png": "[encoded data removed]",
      "text/plain": [
       "<Figure size 1000x500 with 2 Axes>"
      ]
     },
     "metadata": {},
     "output_type": "display_data"
    }
   ],
   "source": [
    "'''visualize the originil time series and the CoDisp score'''\n",
    "import pandas as pd\n",
    "import matplotlib.pyplot as plt\n",
    "import seaborn as sns\n",
    "\n",
    "fig, ax1 = plt.subplots(figsize=(10, 5))\n",
    "\n",
    "color = 'tab:red'\n",
    "ax1.set_ylabel('data points', color=color, size=14)\n",
    "ax1.plot(sin, color=color)\n",
    "ax1.tick_params(axis='y', labelcolor=color, labelsize=12)\n",
    "ax1.set_ylim(0,160)\n",
    "ax2 = ax1.twinx()\n",
    "color = 'tab:blue'\n",
    "ax2.set_ylabel('CoDisp', color=color, size=14)\n",
    "ax2.plot(pd.Series(avg_codisp).sort_index(), color=color)\n",
    "ax2.tick_params(axis='y', labelcolor=color, labelsize=12)\n",
    "ax2.grid('off')\n",
    "ax2.set_ylim(0, 160)\n",
    "plt.title('Sine wave with injected anomaly (red) and anomaly score (blue)', size=14)\n",
    "plt.show()"
   ]
  },
  {
   "cell_type": "code",
   "execution_count": 71,
   "id": "5ee49a9c-bac4-4acb-a4ba-6bea7328388b",
   "metadata": {
    "tags": []
   },
   "outputs": [
    {
     "data": {
      "text/html": [
       "<div>\n",
       "<style scoped>\n",
       "    .dataframe tbody tr th:only-of-type {\n",
       "        vertical-align: middle;\n",
       "    }\n",
       "\n",
       "    .dataframe tbody tr th {\n",
       "        vertical-align: top;\n",
       "    }\n",
       "\n",
       "    .dataframe thead th {\n",
       "        text-align: right;\n",
       "    }\n",
       "</style>\n",
       "<table border=\"1\" class=\"dataframe\">\n",
       "  <thead>\n",
       "    <tr style=\"text-align: right;\">\n",
       "      <th></th>\n",
       "      <th>gender</th>\n",
       "      <th>race/ethnicity</th>\n",
       "      <th>parental level of education</th>\n",
       "      <th>lunch</th>\n",
       "      <th>test preparation course</th>\n",
       "      <th>math score</th>\n",
       "      <th>reading score</th>\n",
       "      <th>writing score</th>\n",
       "    </tr>\n",
       "  </thead>\n",
       "  <tbody>\n",
       "    <tr>\n",
       "      <th>17</th>\n",
       "      <td>female</td>\n",
       "      <td>group B</td>\n",
       "      <td>some high school</td>\n",
       "      <td>free/reduced</td>\n",
       "      <td>none</td>\n",
       "      <td>18</td>\n",
       "      <td>32</td>\n",
       "      <td>28</td>\n",
       "    </tr>\n",
       "    <tr>\n",
       "      <th>59</th>\n",
       "      <td>female</td>\n",
       "      <td>group C</td>\n",
       "      <td>some high school</td>\n",
       "      <td>free/reduced</td>\n",
       "      <td>none</td>\n",
       "      <td>0</td>\n",
       "      <td>17</td>\n",
       "      <td>10</td>\n",
       "    </tr>\n",
       "    <tr>\n",
       "      <th>145</th>\n",
       "      <td>female</td>\n",
       "      <td>group C</td>\n",
       "      <td>some college</td>\n",
       "      <td>free/reduced</td>\n",
       "      <td>none</td>\n",
       "      <td>22</td>\n",
       "      <td>39</td>\n",
       "      <td>33</td>\n",
       "    </tr>\n",
       "    <tr>\n",
       "      <th>503</th>\n",
       "      <td>female</td>\n",
       "      <td>group E</td>\n",
       "      <td>associate's degree</td>\n",
       "      <td>standard</td>\n",
       "      <td>completed</td>\n",
       "      <td>95</td>\n",
       "      <td>89</td>\n",
       "      <td>92</td>\n",
       "    </tr>\n",
       "    <tr>\n",
       "      <th>618</th>\n",
       "      <td>male</td>\n",
       "      <td>group D</td>\n",
       "      <td>master's degree</td>\n",
       "      <td>standard</td>\n",
       "      <td>none</td>\n",
       "      <td>95</td>\n",
       "      <td>81</td>\n",
       "      <td>84</td>\n",
       "    </tr>\n",
       "    <tr>\n",
       "      <th>787</th>\n",
       "      <td>female</td>\n",
       "      <td>group B</td>\n",
       "      <td>some college</td>\n",
       "      <td>standard</td>\n",
       "      <td>none</td>\n",
       "      <td>19</td>\n",
       "      <td>38</td>\n",
       "      <td>32</td>\n",
       "    </tr>\n",
       "    <tr>\n",
       "      <th>842</th>\n",
       "      <td>female</td>\n",
       "      <td>group B</td>\n",
       "      <td>high school</td>\n",
       "      <td>free/reduced</td>\n",
       "      <td>completed</td>\n",
       "      <td>23</td>\n",
       "      <td>44</td>\n",
       "      <td>36</td>\n",
       "    </tr>\n",
       "    <tr>\n",
       "      <th>980</th>\n",
       "      <td>female</td>\n",
       "      <td>group B</td>\n",
       "      <td>high school</td>\n",
       "      <td>free/reduced</td>\n",
       "      <td>none</td>\n",
       "      <td>8</td>\n",
       "      <td>24</td>\n",
       "      <td>23</td>\n",
       "    </tr>\n",
       "  </tbody>\n",
       "</table>\n",
       "</div>"
      ],
      "text/plain": [
       "     gender race/ethnicity parental level of education         lunch  \\\n",
       "17   female        group B            some high school  free/reduced   \n",
       "59   female        group C            some high school  free/reduced   \n",
       "145  female        group C                some college  free/reduced   \n",
       "503  female        group E          associate's degree      standard   \n",
       "618    male        group D             master's degree      standard   \n",
       "787  female        group B                some college      standard   \n",
       "842  female        group B                 high school  free/reduced   \n",
       "980  female        group B                 high school  free/reduced   \n",
       "\n",
       "    test preparation course  math score  reading score  writing score  \n",
       "17                     none          18             32             28  \n",
       "59                     none           0             17             10  \n",
       "145                    none          22             39             33  \n",
       "503               completed          95             89             92  \n",
       "618                    none          95             81             84  \n",
       "787                    none          19             38             32  \n",
       "842               completed          23             44             36  \n",
       "980                    none           8             24             23  "
      ]
     },
     "execution_count": 71,
     "metadata": {},
     "output_type": "execute_result"
    }
   ],
   "source": [
    "import pandas as pd\n",
    "\n",
    "data = pd.read_csv(\"data/exercise_1/StudentsPerformance.csv\")\n",
    "\n",
    "tree = rrcf.RCTree(data[\"math score\"].to_numpy().astype(float)[:, np.newaxis])\n",
    "# print(tree)\n",
    "codisp = np.array([tree.codisp(i) for i in range(len(data))])\n",
    "\n",
    "data[codisp > np.quantile(codisp, 0.99)]"
   ]
  },
  {
   "cell_type": "code",
   "execution_count": null,
   "id": "853d52dc-024a-4163-90e5-26802ddcc4c4",
   "metadata": {},
   "outputs": [],
   "source": []
  }
 ],
 "metadata": {
  "kernelspec": {
   "display_name": "Python [conda env:aml]",
   "language": "python",
   "name": "conda-env-aml-py"
  },
  "language_info": {
   "codemirror_mode": {
    "name": "ipython",
    "version": 3
   },
   "file_extension": ".py",
   "mimetype": "text/x-python",
   "name": "python",
   "nbconvert_exporter": "python",
   "pygments_lexer": "ipython3",
   "version": "3.11.5"
  }
 },
 "nbformat": 4,
 "nbformat_minor": 5
}
