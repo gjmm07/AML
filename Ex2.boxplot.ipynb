{
 "cells": [
  {
   "cell_type": "markdown",
   "id": "cbda02a8",
   "metadata": {},
   "source": [
    "<img src=\"https://www.th-koeln.de/img/logo.svg\" style=\"float:right;\" width=\"200\">"
   ]
  },
  {
   "cell_type": "markdown",
   "id": "3efc66f5",
   "metadata": {},
   "source": [
    "# 2nd exercise: <font color=\"#C70039\">Work with Boxplots for anomaly detection</font>\n",
    "* Course: AML\n",
    "* Lecturer: <a href=\"https://www.gernotheisenberg.de/\">Gernot Heisenberg</a>\n",
    "* Author of notebook: Finn Heydemann\n",
    "* Date:   28.10.2023\n",
    "\n",
    "<img src=\"https://r-graph-gallery.com/img/other/boxplot_explanation.png\" style=\"float: center;\" width=\"800\">\n",
    "<img src=\"https://i2.wp.com/upload.wikimedia.org/wikipedia/commons/thumb/1/1a/Boxplot_vs_PDF.svg/550px-Boxplot_vs_PDF.svg.png?w=578\" style=\"float: center;\" width=\"800\">\n",
    "\n",
    "\n",
    "---------------------------------\n",
    "**GENERAL NOTE 1**: \n",
    "Please make sure you are reading the entire notebook, since it contains a lot of information on your tasks (e.g. regarding the set of certain paramaters or a specific computational trick), and the written mark downs as well as comments contain a lot of information on how things work together as a whole. \n",
    "\n",
    "**GENERAL NOTE 2**: \n",
    "* Please, when commenting source code, just use English language only. \n",
    "* When describing an observation please use English language, too\n",
    "* This applies to all exercises throughout this course.  \n",
    "\n",
    "---------------------\n",
    "\n",
    "### <font color=\"ce33ff\">DESCRIPTION</font>:\n",
    "This notebook allows you for using boxplots to detect anomalies. Try to interpret the boxplot. \n",
    "\n",
    "-------------------------------------------------------------------------------------------------------------\n",
    "\n",
    "### <font color=\"FFC300\">TASKS</font>:\n",
    "The tasks that you need to work on within this notebook are always indicated below as bullet points. \n",
    "If a task is more challenging and consists of several steps, this is indicated as well. \n",
    "Make sure you have worked down the task list and commented your doings. \n",
    "This should be done by using markdown.<br> \n",
    "<font color=red>Make sure you don't forget to specify your name and your matriculation number in the notebook.</font>\n",
    "\n",
    "**YOUR TASKS in this exercise are as follows**:\n",
    "1. import the notebook to Google Colab or use your local machine.\n",
    "2. make sure you specified you name and your matriculation number in the header below my name and date. \n",
    "    * set the date too and remove mine.\n",
    "3. read the entire notebook carefully \n",
    "    * add comments whereever you feel it necessary for better understanding\n",
    "    * run the notebook for the first time. \n",
    "4. take the three data sets from exercize 1 and create a boxplot for each of them\n",
    "5. interpret the visual results and describe them\n",
    "6. how can you test your data for being normally distributed? \n",
    "-----------------------------------------------------------------------------------"
   ]
  },
  {
   "cell_type": "code",
   "execution_count": 1,
   "id": "e9e37b8a",
   "metadata": {
    "tags": []
   },
   "outputs": [],
   "source": [
    "import seaborn as sns\n",
    "import matplotlib.pyplot as plt\n",
    "import numpy as np\n",
    "from numpy.random import randn\n",
    "np.random.seed(1)\n"
   ]
  },
  {
   "cell_type": "code",
   "execution_count": 2,
   "id": "259ca2cf",
   "metadata": {
    "tags": []
   },
   "outputs": [],
   "source": [
    "# multiply and add by random numbers to get some real values\n",
    "# randn generates samples from the normal distribution (important - see below)\n",
    "random_data = np.random.randn(50000)  * 20 + 20"
   ]
  },
  {
   "cell_type": "code",
   "execution_count": 3,
   "id": "9f60ff6f",
   "metadata": {
    "tags": []
   },
   "outputs": [
    {
     "data": {
      "image/png": "[encoded data removed]",
      "text/plain": [
       "<Figure size 640x480 with 1 Axes>"
      ]
     },
     "metadata": {},
     "output_type": "display_data"
    }
   ],
   "source": [
    "sns.boxplot(data=random_data)\n",
    "plt.show()"
   ]
  },
  {
   "cell_type": "code",
   "execution_count": 29,
   "id": "97808fcb-a007-4693-b706-f05f894db843",
   "metadata": {
    "tags": []
   },
   "outputs": [
    {
     "data": {
      "text/plain": [
       "array([-35.8617    ,  80.61714225, -35.65068935,  99.17205408,\n",
       "       -35.81992813,  86.42157512, -33.96723483, -41.07528761,\n",
       "        78.34617526,  76.54599588,  74.23899748, -43.067149  ,\n",
       "       -40.3206397 ,  88.65326864, -35.82888076,  76.87877139,\n",
       "       -41.28282712,  94.80497807,  74.58924271,  77.88772383,\n",
       "        82.7009468 ,  84.76686394, -34.78283478, -37.44100501,\n",
       "       -34.20787481,  75.74722896,  74.12249844,  77.87185104,\n",
       "        74.84310423,  76.95564235,  75.54105986, -36.03124433,\n",
       "        76.38174189, -45.0606847 ,  74.34772486, -34.39876182,\n",
       "       -38.28997835,  77.08848163,  74.61690622,  82.64059456,\n",
       "        80.25509136,  76.43577761, -36.89875188, -39.69672273,\n",
       "       -43.81232694, -45.21230192, -33.97837966, -37.02139085,\n",
       "       -34.16678629, -38.50610072,  88.08604551,  79.51578577,\n",
       "       -34.21033755,  77.81616357,  82.36959182,  85.97081047,\n",
       "        82.9796805 , -36.04264086,  78.5366674 , -34.46354787,\n",
       "       -45.89716813, -34.07986795, -41.11266481, -35.21399504,\n",
       "       100.53698089, -44.38264211,  77.15467882,  76.09101895,\n",
       "        82.23783662, -37.73388132,  74.20425715,  92.26554014,\n",
       "       -36.14464871,  87.96231313,  91.21746641, -53.12880199,\n",
       "        75.97638813, -45.64157593,  80.09264253, -37.29267907,\n",
       "        91.21225295, -35.98303297, -43.46923275, -34.08442185,\n",
       "        82.13498657,  82.90737927, -39.86982454, -46.21685124,\n",
       "       -37.15055461,  74.14251134, -41.95653104, -37.58465058,\n",
       "       -36.7891546 , -45.60655194,  75.08540296,  77.38927174,\n",
       "       -38.56479496,  76.871437  ,  76.78295427,  74.63852025,\n",
       "        80.52436989, -35.59292026,  76.12359139, -39.67330888,\n",
       "        74.09865159, -43.30420249,  79.51049288,  74.26327018,\n",
       "        77.15907871, -42.25263324,  81.59215546,  74.12707741,\n",
       "        77.04719248, -39.68480773,  75.29533039, 103.36235356,\n",
       "        74.02110979,  96.68762042, -40.58687956, -48.7185162 ,\n",
       "       -45.18412137,  81.54158108, -35.09207617,  74.80784467,\n",
       "       -34.72710031, -37.36091861, -37.37803455, -37.08108277,\n",
       "        74.5619158 ,  75.40605486, -39.31399767,  84.55872241,\n",
       "        79.82213434,  77.93003549, -38.64509283, -40.76885172,\n",
       "       -44.08128901,  76.86311843, -42.04329787,  87.71430312,\n",
       "        76.78575604,  88.93912032,  74.72061321, -40.52113315,\n",
       "       -49.02805813, -34.27289958,  86.72050503, -35.4277613 ,\n",
       "       -44.45227837, -58.55028132,  76.51837469, -36.45328824,\n",
       "        87.83885146, -41.81006578, -39.34934736,  75.11321611,\n",
       "        74.45219054,  75.52708945,  75.2745851 , -42.38237155,\n",
       "        91.19937116,  74.29202493,  75.88551312,  93.19531684,\n",
       "       -36.10682579, -41.01728295,  82.94710559,  77.20168456,\n",
       "       -36.92257349, -36.40929274, -37.4039325 ,  86.84102578,\n",
       "        79.74073867, -47.35894572, -35.7353855 , -47.27471768,\n",
       "        77.31043419,  73.82331644, -37.58905227, -44.0528396 ,\n",
       "        77.68210664,  74.35283883,  81.39224117, -64.66329595,\n",
       "       -41.91924536,  76.66955617,  74.13141131,  77.33477115,\n",
       "        86.98293402, -42.78324538, -43.44070545,  83.14254869,\n",
       "       -38.79374341,  76.87828875,  79.26711716,  78.70519455,\n",
       "        80.29722046,  80.97664482, -34.05891632,  79.4440025 ,\n",
       "        79.87234235, -34.78093295,  76.57433111, -37.25081912,\n",
       "       -49.1353069 , -39.30115858,  90.95359817,  85.75049141,\n",
       "        77.99813217,  90.63353727, -52.25624571, -35.14250257,\n",
       "        78.2720295 , -48.42727398,  73.99698456,  92.45148786,\n",
       "       -40.60136533,  77.52783527, -34.38975118, -34.28407191,\n",
       "       -34.66404324,  74.67513853,  79.31507012,  90.66197938,\n",
       "       -40.65200033,  78.05468898,  76.10665342, -39.7258654 ,\n",
       "        85.47272253, -40.59878231, -37.6879442 , -34.50634921,\n",
       "       -53.95783717, -38.31172548, -35.15621329, -40.80036485,\n",
       "        82.47403923, -38.52266653,  82.69560614, -37.56320898,\n",
       "        73.90157419,  77.9433286 , -46.18148127,  86.99084876,\n",
       "        79.03591658,  77.76137077, -35.31903536, -38.68031117,\n",
       "        80.14572971,  82.24721889,  74.49607437,  74.99869464,\n",
       "       -45.83227596,  84.17626694, -36.25476452, -34.63844819,\n",
       "       -36.98596119, -38.7804372 ,  75.30982429, -39.45102341,\n",
       "        84.41938097,  74.4208264 ,  74.26219913,  75.47032111,\n",
       "       -48.12080166, -47.66016306, -37.67850883,  83.03299707,\n",
       "        78.18464751,  75.34171294, -36.98426248, -46.34572896,\n",
       "       -43.94127801,  76.23971068, -34.08308692, -44.88889348,\n",
       "        75.36273255,  82.73490952,  83.57335544, -36.62496027,\n",
       "        73.85844051, -33.93766999,  75.72339019, -39.66076026,\n",
       "        80.0340636 ,  78.89243874, -39.88268155,  80.77274131,\n",
       "       -37.25289797,  73.89505015, -52.50413207,  75.01576701,\n",
       "       -36.86932899, -49.69745467,  77.11012485,  75.7783091 ,\n",
       "        77.98008641,  80.22051939, -61.76977168, -35.99473753,\n",
       "       -41.57467214, -37.01407673, -37.31450019,  76.44535736,\n",
       "       -35.34890278,  74.55129507, -58.8628464 , -51.19738386,\n",
       "        78.76972805,  75.60342332, -34.408634  , -56.11928396,\n",
       "       -36.16808082, -48.85042291, -38.6027919 , -52.64159592,\n",
       "       -34.58919861,  79.42685188,  74.4909021 , -40.85801593,\n",
       "        90.00512514, -35.85217866, -44.15080376,  81.07575084,\n",
       "        74.43680601,  88.42082611, -48.97515467, -41.87410602,\n",
       "        81.91272478,  84.69303765, -40.93984642, -35.22769246,\n",
       "       -52.61561504, -34.72573462, -49.39834453,  84.48319182,\n",
       "       -36.15276168,  79.96406554,  78.51670098,  80.41393381,\n",
       "       -34.54292521,  89.04319371, -35.02476011,  83.11545349,\n",
       "        75.84397277, -35.34727853,  86.3948526 ,  74.15549321,\n",
       "        75.43073823, -54.34260433, -53.88408955, -60.83360878,\n",
       "        75.7614544 , -38.16842492, -45.50295147, -38.81306884,\n",
       "       -35.08762697,  74.04412014, -42.8411709 ])"
      ]
     },
     "execution_count": 29,
     "metadata": {},
     "output_type": "execute_result"
    }
   ],
   "source": [
    "def get_outliers(data): \n",
    "    q25, q75 = np.quantile(data, 0.25), np.quantile(data, 0.75)\n",
    "    iqr = q75 - q25\n",
    "    u_bound, l_bound = q75 + 1.5 * iqr, q25 - 1.5 * iqr\n",
    "    return data[np.logical_or(data < l_bound, data > u_bound)]\n",
    "\n",
    "get_outliers(random_data)"
   ]
  },
  {
   "cell_type": "code",
   "execution_count": 24,
   "id": "5c5e4246-b721-42a1-9cc6-3bcacb264281",
   "metadata": {
    "tags": []
   },
   "outputs": [
    {
     "data": {
      "text/plain": [
       "<Axes: >"
      ]
     },
     "execution_count": 24,
     "metadata": {},
     "output_type": "execute_result"
    },
    {
     "data": {
      "image/png": "[encoded data removed]",
      "text/plain": [
       "<Figure size 640x480 with 1 Axes>"
      ]
     },
     "metadata": {},
     "output_type": "display_data"
    }
   ],
   "source": [
    "import pandas as pd \n",
    "\n",
    "data = pd.read_csv(\"data/exercise_1/StudentsPerformance.csv\")[\"math score\"]\n",
    "sns.boxplot(data)"
   ]
  },
  {
   "cell_type": "code",
   "execution_count": 31,
   "id": "9f9d2b60-a751-4b35-9e20-bbc21ebf4de0",
   "metadata": {
    "tags": []
   },
   "outputs": [
    {
     "data": {
      "text/plain": [
       "17     18\n",
       "59      0\n",
       "145    22\n",
       "338    24\n",
       "466    26\n",
       "787    19\n",
       "842    23\n",
       "980     8\n",
       "Name: math score, dtype: int64"
      ]
     },
     "execution_count": 31,
     "metadata": {},
     "output_type": "execute_result"
    }
   ],
   "source": [
    "get_outliers(data)"
   ]
  },
  {
   "cell_type": "markdown",
   "id": "9a27393a-b21a-478e-9e3e-9c996cd2aa2f",
   "metadata": {},
   "source": [
    "As can be seen 8 students are worse the then lower limit which makes them outliers. These are the same students as in exercise one plus 5 more. "
   ]
  },
  {
   "cell_type": "code",
   "execution_count": 32,
   "id": "225f7baa-1a0a-420e-aa24-12500520e4dd",
   "metadata": {
    "tags": []
   },
   "outputs": [
    {
     "name": "stderr",
     "output_type": "stream",
     "text": [
      "/tmp/ipykernel_63548/3201813435.py:1: DtypeWarning: Columns (2) have mixed types. Specify dtype option on import or set low_memory=False.\n",
      "  data = pd.read_csv(\"data/exercise_1/city_temperature.csv\")\n"
     ]
    }
   ],
   "source": [
    "data = pd.read_csv(\"data/exercise_1/city_temperature.csv\")\n",
    "data.drop(data[data[\"AvgTemperature\"] == -99].index, inplace=True)\n",
    "data[\"AvgTemperature\"] = (data[\"AvgTemperature\"] - 32) * 5/9 \n",
    "data[\"date\"] = pd.to_datetime(data[[\"Year\", \"Month\", \"Day\"]])\n",
    "data = data.set_index(\"date\").groupby([\"City\", pd.Grouper(freq=\"D\")])[\"AvgTemperature\"].mean()\n",
    "data = data.reset_index()"
   ]
  },
  {
   "cell_type": "code",
   "execution_count": 41,
   "id": "b7bd29de-a4ee-4592-b8a2-a8b9b24dcfc5",
   "metadata": {
    "tags": []
   },
   "outputs": [
    {
     "data": {
      "text/plain": [
       "<Axes: >"
      ]
     },
     "execution_count": 41,
     "metadata": {},
     "output_type": "execute_result"
    },
    {
     "data": {
      "image/png": "[encoded data removed]",
      "text/plain": [
       "<Figure size 640x480 with 1 Axes>"
      ]
     },
     "metadata": {},
     "output_type": "display_data"
    }
   ],
   "source": [
    "sns.boxplot(data[data[\"City\"] == \"Brasilia\"][\"AvgTemperature\"].to_numpy())"
   ]
  },
  {
   "cell_type": "code",
   "execution_count": 48,
   "id": "0c74fca4-08b7-42f8-8c2d-3bba0ff89e50",
   "metadata": {
    "tags": []
   },
   "outputs": [
    {
     "data": {
      "text/html": [
       "<div>\n",
       "<style scoped>\n",
       "    .dataframe tbody tr th:only-of-type {\n",
       "        vertical-align: middle;\n",
       "    }\n",
       "\n",
       "    .dataframe tbody tr th {\n",
       "        vertical-align: top;\n",
       "    }\n",
       "\n",
       "    .dataframe thead th {\n",
       "        text-align: right;\n",
       "    }\n",
       "</style>\n",
       "<table border=\"1\" class=\"dataframe\">\n",
       "  <thead>\n",
       "    <tr style=\"text-align: right;\">\n",
       "      <th></th>\n",
       "      <th>City</th>\n",
       "      <th>date</th>\n",
       "      <th>AvgTemperature</th>\n",
       "    </tr>\n",
       "  </thead>\n",
       "  <tbody>\n",
       "    <tr>\n",
       "      <th>405901</th>\n",
       "      <td>Brasilia</td>\n",
       "      <td>1995-06-08</td>\n",
       "      <td>15.722222</td>\n",
       "    </tr>\n",
       "    <tr>\n",
       "      <th>406288</th>\n",
       "      <td>Brasilia</td>\n",
       "      <td>1996-06-29</td>\n",
       "      <td>13.666667</td>\n",
       "    </tr>\n",
       "    <tr>\n",
       "      <th>406289</th>\n",
       "      <td>Brasilia</td>\n",
       "      <td>1996-06-30</td>\n",
       "      <td>14.333333</td>\n",
       "    </tr>\n",
       "    <tr>\n",
       "      <th>406608</th>\n",
       "      <td>Brasilia</td>\n",
       "      <td>1997-05-15</td>\n",
       "      <td>16.111111</td>\n",
       "    </tr>\n",
       "    <tr>\n",
       "      <th>406632</th>\n",
       "      <td>Brasilia</td>\n",
       "      <td>1997-06-08</td>\n",
       "      <td>15.944444</td>\n",
       "    </tr>\n",
       "    <tr>\n",
       "      <th>...</th>\n",
       "      <td>...</td>\n",
       "      <td>...</td>\n",
       "      <td>...</td>\n",
       "    </tr>\n",
       "    <tr>\n",
       "      <th>414742</th>\n",
       "      <td>Brasilia</td>\n",
       "      <td>2019-10-20</td>\n",
       "      <td>28.555556</td>\n",
       "    </tr>\n",
       "    <tr>\n",
       "      <th>414754</th>\n",
       "      <td>Brasilia</td>\n",
       "      <td>2019-11-01</td>\n",
       "      <td>27.944444</td>\n",
       "    </tr>\n",
       "    <tr>\n",
       "      <th>414764</th>\n",
       "      <td>Brasilia</td>\n",
       "      <td>2019-11-11</td>\n",
       "      <td>27.611111</td>\n",
       "    </tr>\n",
       "    <tr>\n",
       "      <th>414765</th>\n",
       "      <td>Brasilia</td>\n",
       "      <td>2019-11-12</td>\n",
       "      <td>28.500000</td>\n",
       "    </tr>\n",
       "    <tr>\n",
       "      <th>414766</th>\n",
       "      <td>Brasilia</td>\n",
       "      <td>2019-11-13</td>\n",
       "      <td>27.777778</td>\n",
       "    </tr>\n",
       "  </tbody>\n",
       "</table>\n",
       "<p>84 rows × 3 columns</p>\n",
       "</div>"
      ],
      "text/plain": [
       "            City       date  AvgTemperature\n",
       "405901  Brasilia 1995-06-08       15.722222\n",
       "406288  Brasilia 1996-06-29       13.666667\n",
       "406289  Brasilia 1996-06-30       14.333333\n",
       "406608  Brasilia 1997-05-15       16.111111\n",
       "406632  Brasilia 1997-06-08       15.944444\n",
       "...          ...        ...             ...\n",
       "414742  Brasilia 2019-10-20       28.555556\n",
       "414754  Brasilia 2019-11-01       27.944444\n",
       "414764  Brasilia 2019-11-11       27.611111\n",
       "414765  Brasilia 2019-11-12       28.500000\n",
       "414766  Brasilia 2019-11-13       27.777778\n",
       "\n",
       "[84 rows x 3 columns]"
      ]
     },
     "execution_count": 48,
     "metadata": {},
     "output_type": "execute_result"
    }
   ],
   "source": [
    "ind = get_outliers(data[data[\"City\"] == \"Brasilia\"][\"AvgTemperature\"]).index\n",
    "data.loc[ind]"
   ]
  },
  {
   "cell_type": "code",
   "execution_count": 49,
   "id": "a8908fae-4764-45c6-bd7f-6c9903b8bf2e",
   "metadata": {
    "tags": []
   },
   "outputs": [
    {
     "data": {
      "text/plain": [
       "<Axes: >"
      ]
     },
     "execution_count": 49,
     "metadata": {},
     "output_type": "execute_result"
    },
    {
     "data": {
      "image/png": "[encoded data removed]",
      "text/plain": [
       "<Figure size 640x480 with 1 Axes>"
      ]
     },
     "metadata": {},
     "output_type": "display_data"
    }
   ],
   "source": [
    "sns.boxplot(data[data[\"City\"] == \"Pyongyang\"][\"AvgTemperature\"].to_numpy())"
   ]
  },
  {
   "cell_type": "markdown",
   "id": "338f9fd3-4f28-492b-ab8e-229d27cd6d60",
   "metadata": {},
   "source": [
    "Again no outliers in Pyongyang because the data is not normally distributed. "
   ]
  },
  {
   "cell_type": "markdown",
   "id": "af4fb247-2a9d-4631-be5c-f3141cbf7f03",
   "metadata": {},
   "source": [
    "## Check for Normal Distribution: Draw Histogram and visually check if normal curve is close\n",
    "\n",
    "Other statistical methods such as Kolmogorov-Smirnov, Shapiro-Wilk lead to hard facts"
   ]
  },
  {
   "cell_type": "code",
   "execution_count": 71,
   "id": "a3485a7e-2a3c-4173-9cf4-d22313a0d79d",
   "metadata": {
    "tags": []
   },
   "outputs": [
    {
     "data": {
      "image/png": "[encoded data removed]",
      "text/plain": [
       "<Figure size 640x480 with 1 Axes>"
      ]
     },
     "metadata": {},
     "output_type": "display_data"
    }
   ],
   "source": [
    "from scipy.stats import norm\n",
    "\n",
    "p_data = data[data[\"City\"] == \"Brasilia\"][\"AvgTemperature\"]\n",
    "xmin, xmax = p_data.min() - 2, p_data.max() + 2\n",
    "mu, std = p_data.mean(), p_data.std()\n",
    "weights = np.ones_like(p_data)/float(len(p_data))\n",
    "x = np.linspace(xmin, xmax, 100) \n",
    "p = norm.pdf(x, mu, std) \n",
    "plt.hist(p_data, bins=20, weights=weights)\n",
    "plt.plot(x, p)\n",
    "plt.show()"
   ]
  },
  {
   "cell_type": "code",
   "execution_count": 57,
   "id": "be9c793a-9d2d-419e-814f-a6e435164d75",
   "metadata": {
    "tags": []
   },
   "outputs": [],
   "source": []
  },
  {
   "cell_type": "code",
   "execution_count": null,
   "id": "eb3701af-70b5-4636-81c6-e4ab570f32a5",
   "metadata": {},
   "outputs": [],
   "source": []
  }
 ],
 "metadata": {
  "kernelspec": {
   "display_name": "Python 3 (ipykernel)",
   "language": "python",
   "name": "python3"
  },
  "language_info": {
   "codemirror_mode": {
    "name": "ipython",
    "version": 3
   },
   "file_extension": ".py",
   "mimetype": "text/x-python",
   "name": "python",
   "nbconvert_exporter": "python",
   "pygments_lexer": "ipython3",
   "version": "3.11.5"
  }
 },
 "nbformat": 4,
 "nbformat_minor": 5
}
