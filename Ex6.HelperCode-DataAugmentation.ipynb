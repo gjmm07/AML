{
 "cells": [
  {
   "cell_type": "markdown",
   "id": "4e9ceba0",
   "metadata": {},
   "source": [
    "<img src=\"https://www.th-koeln.de/img/logo.svg\" style=\"float:right;\" width=\"200\">"
   ]
  },
  {
   "cell_type": "markdown",
   "id": "350d1de0",
   "metadata": {},
   "source": [
    "# 6th exercise: <font color=\"#C70039\">Perform data augmentation for sample solution in exercise 6</font>\n",
    "* Course: AML\n",
    "* Lecturer: <a href=\"https://www.gernotheisenberg.de/\">Gernot Heisenberg</a>\n",
    "* Author of notebook: <a href=\"https://www.gernotheisenberg.de/\">Gernot Heisenberg</a>\n",
    "* Date:   08.08.2023\n",
    "\n",
    "<img src=\"http://ai.stanford.edu/blog/assets/img/posts/2020-04-20-data-augmentation/thumbnail.png\" style=\"float: center;\" width=\"450\">\n",
    "\n",
    "---------------------------------\n",
    "**GENERAL NOTE 1**: \n",
    "Please make sure you are reading the entire notebook, since it contains a lot of information on your tasks (e.g. regarding the set of certain paramaters or a specific computational trick), and the written mark downs as well as comments contain a lot of information on how things work together as a whole. \n",
    "\n",
    "---------------------\n",
    "\n",
    "### <font color=\"ce33ff\">DESCRIPTION</font>:\n",
    "This notebook allows you for performing data augmentation and saving the augmented images back to disc. \n",
    "\n",
    "-------------------------------------------------------------------------------------------------------------"
   ]
  },
  {
   "cell_type": "code",
   "execution_count": null,
   "id": "c3e4aa43",
   "metadata": {
    "tags": []
   },
   "outputs": [],
   "source": [
    "from tensorflow.keras.preprocessing.image import ImageDataGenerator, array_to_img, img_to_array, load_img\n",
    "import os"
   ]
  },
  {
   "cell_type": "code",
   "execution_count": null,
   "id": "e22488a4",
   "metadata": {
    "tags": []
   },
   "outputs": [],
   "source": [
    "#datagen = ImageDataGenerator(shear_range=0.2, zoom_range=0.2, rotation_range=90) \n",
    "datagen = ImageDataGenerator(\n",
    "                    rotation_range=90,\n",
    "                    horizontal_flip=True,\n",
    "                    vertical_flip=True,\n",
    "                    width_shift_range=45.0,\n",
    "                    height_shift_range=45.0) \n",
    "\n",
    "# original image(s)\n",
    "# make sure the /augmented/ folder is not there too - adapt code otherwise\n",
    "img_folder  = \"PATH_TO_IMAGE(S)\"\n",
    "image_names=os.listdir(img_folder)\n",
    "\n",
    "print('image_names:',image_names)\n",
    "\n",
    "for filename in image_names:\n",
    "    print(filename)\n",
    "    img = load_img(filename)  \n",
    "    x = img_to_array(img) \n",
    "    # Reshape the input image \n",
    "    x = x.reshape((1, ) + x.shape)  \n",
    "    i = 0\n",
    "    \n",
    "    # set n to the number of augmented images you want\n",
    "    n = 50\n",
    "    # generate n new augmented images and store them in an /augmented/ folder that exists \n",
    "    for batch in datagen.flow(x, batch_size = 1, save_to_dir = 'augmented', save_format ='jpg'):\n",
    "        i += 1\n",
    "        if i > n: \n",
    "            break"
   ]
  }
 ],
 "metadata": {
  "kernelspec": {
   "display_name": "Python 3 (ipykernel)",
   "language": "python",
   "name": "python3"
  },
  "language_info": {
   "codemirror_mode": {
    "name": "ipython",
    "version": 3
   },
   "file_extension": ".py",
   "mimetype": "text/x-python",
   "name": "python",
   "nbconvert_exporter": "python",
   "pygments_lexer": "ipython3",
   "version": "3.11.5"
  }
 },
 "nbformat": 4,
 "nbformat_minor": 5
}
