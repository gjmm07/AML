{
 "cells": [
  {
   "cell_type": "markdown",
   "id": "b9bdaa1f",
   "metadata": {},
   "source": [
    "<img src=\"https://www.th-koeln.de/img/logo.svg\" style=\"float:right;\" width=\"200\">"
   ]
  },
  {
   "cell_type": "markdown",
   "id": "25c621fd",
   "metadata": {},
   "source": [
    "# 12th exercise: <font color=\"#C70039\">First Reinforcement Learning Game (*Frozen Lake*) using OpenAI Gym</font>\n",
    "* Course: AML\n",
    "* Lecturer: <a href=\"https://www.gernotheisenberg.de/\">Gernot Heisenberg</a>\n",
    "* Author of notebook: <a href=\"https://www.gernotheisenberg.de/\">Gernot Heisenberg</a>. This notebook is based on the great post and notebook from [Rodolfo Mendes](https://morioh.com/p/18a96b9091d3).\n",
    "* Date:   08.08.2023\n",
    "\n",
    "<img src=\"https://launchyourintelligentapphome.files.wordpress.com/2019/05/frozenlake_legended.png?w=531\" style=\"float: center;\" width=\"600\">\n",
    "\n",
    "---------------------------------\n",
    "**GENERAL NOTE 1**: \n",
    "Please make sure you are reading the entire notebook, since it contains a lot of information on your tasks (e.g. regarding the set of certain paramaters or a specific computational trick), and the written mark downs as well as comments contain a lot of information on how things work together as a whole. \n",
    "\n",
    "**GENERAL NOTE 2**: \n",
    "* Please, when commenting source code, just use English language only. \n",
    "* When describing an observation please use English language, too.\n",
    "* This applies to all exercises throughout this course.\n",
    "\n",
    "---------------------------------\n",
    "\n",
    "### <font color=\"ce33ff\">DESCRIPTION</font>:\n",
    "\n",
    "#### OpenAI Gym\n",
    "In this exercise you will be using Python and OpenAI Gym to develop your reinforcement learning algorithm. The Gym library is a collection of environments that can be used freely with the reinforcement learning algorithms.\n",
    "\n",
    "Gym has a ton of environments ranging from simple text based games to Atari games like Breakout and Space Invaders. The library is intuitive to use and simple to install. Just run **pip install gym** and you are good to go! The link to Gym's installation instructions, requirements, and documentation is included in the description. \n",
    "\n",
    "Further reading about OpenAI Gym is available under https://www.gymlibrary.dev/.\n",
    "This notebook is based on this great post and notebook from [Rodolfo Mendes](https://morioh.com/p/18a96b9091d3).\n",
    "\n",
    "#### Frozen Lake\n",
    "This description of the game is copied directly from Gym's website. \n",
    "\n",
    "*Winter is coming. You and your friends were tossing around a frisbee at the park when you made a wild throw that left the frisbee out in the middle of the lake. The water is mostly frozen, but there are a few holes where the ice has melted. If you step into one of those holes, you'll fall into the freezing water and die (Game over). At this time, there's an international frisbee shortage, so it's absolutely imperative that you navigate across the lake and retrieve the disc. However, the ice is slippery, so you won't always move in the direction you intend. The surface is described using a grid like the following:*\n",
    "\n",
    "* SFFF\n",
    "* FHFH\n",
    "* FFFH\n",
    "* HFFG\n",
    "\n",
    "This grid is your environment! S is your (the agent's) starting point and it's safe. F represents the frozen surface and is also safe. H represents a hole and if your agent steps in a hole in the middle of a frozen lake, the game is over because the agent dies. Finally, G represents the goal, which is the space on the grid where the frisbee is located.\n",
    "\n",
    "The agent can navigate *left, right, up, down* and the episode ends when the agent reaches the goal or falls in a hole. It receives a reward of **1** if it reaches the goal and **0** otherwise.\n",
    "\n",
    "Here is the summary:\n",
    "<img src=\"./images/FrozenLake.States.Rewards.png\" style=\"float: center;\" width=\"800\">\n",
    "\n",
    "---------------------------------\n",
    "\n",
    "### <font color=\"FFC300\">TASKS</font>:\n",
    "The tasks that you need to work on within this notebook are always indicated below as bullet points. \n",
    "If a task is more challenging and consists of several steps, this is indicated as well. \n",
    "Make sure you have worked down the task list and commented your doings. \n",
    "This should be done by using markdown.<br> \n",
    "<font color=red>Make sure you don't forget to specify your name and your matriculation number in the notebook.</font>\n",
    "\n",
    "**YOUR TASKS in this exercise are as follows**:\n",
    "1. import the notebook to Google Colab or use your local machine.\n",
    "2. make sure you specified you name and your matriculation number in the header below my name and date. \n",
    "    * set the date too and remove mine.\n",
    "3. read the entire notebook carefully \n",
    "    * add comments whereever you feel it necessary for better understanding\n",
    "    * run the notebook for the first time. \n",
    "4. install gym into your env!\n",
    "5. You will train an agent to play the *Frozen Lake* game using Q-learning and you will get a playback of how the agent does after being trained.\n",
    "6. Again the task: Your agent has to navigate the grid by staying on the frozen surface without falling into any holes until it reaches the frisbee. If it reaches the frisbee, it wins with a reward of plus one. If it falls in a hole, it loses and receives no points for the entire episode.\n",
    "7. Your tasks are highlighted in the notebook (see below)\n",
    "---------------------------------"
   ]
  },
  {
   "cell_type": "markdown",
   "id": "0c8e1838",
   "metadata": {},
   "source": [
    "### Imports \n",
    "import all important libs including gym"
   ]
  },
  {
   "cell_type": "code",
   "execution_count": 1,
   "id": "a8a696b3",
   "metadata": {
    "tags": []
   },
   "outputs": [],
   "source": [
    "import numpy as np\n",
    "import gym\n",
    "import random\n",
    "import time\n",
    "from   IPython.display import clear_output"
   ]
  },
  {
   "cell_type": "code",
   "execution_count": 2,
   "id": "ffb30fd8-4661-4d87-a050-91ce38444d8f",
   "metadata": {
    "tags": []
   },
   "outputs": [
    {
     "name": "stdout",
     "output_type": "stream",
     "text": [
      "0.26.2\n"
     ]
    }
   ],
   "source": [
    "print(gym.__version__)"
   ]
  },
  {
   "cell_type": "markdown",
   "id": "87efa371",
   "metadata": {},
   "source": [
    "### Creating the Environment\n",
    "For creating your environment, just call *gym.make()* and pass a string of the name of the environment you want to set up. \n",
    "All the environments with their corresponding names you can use here are available on Gym's website (see above).\n",
    "With this *env* object, you are able to query for information about the environment, sample states and actions, retrieve rewards and have your agent navigate the frozen lake. That is all made available to you conveniently with Gym."
   ]
  },
  {
   "cell_type": "code",
   "execution_count": 3,
   "id": "d39e8b02-7b42-4fc0-93c8-06adc795126c",
   "metadata": {
    "tags": []
   },
   "outputs": [
    {
     "name": "stdout",
     "output_type": "stream",
     "text": [
      "\n",
      "\u001b[41mS\u001b[0mFFF\n",
      "FHFH\n",
      "FFFH\n",
      "HFFG\n",
      "\n"
     ]
    }
   ],
   "source": [
    "env = gym.make(\"FrozenLake-v1\", is_slippery=False, render_mode=\"ansi\")\n",
    "env.reset()\n",
    "# plt.imshow(env.render())\n",
    "print(env.render())"
   ]
  },
  {
   "cell_type": "code",
   "execution_count": 4,
   "id": "71bf2f50-40b7-4fdc-8c28-3dda9f9b8672",
   "metadata": {
    "tags": []
   },
   "outputs": [
    {
     "name": "stdout",
     "output_type": "stream",
     "text": [
      "  (Right)\n",
      "S\u001b[41mF\u001b[0mFF\n",
      "FHFH\n",
      "FFFH\n",
      "HFFG\n",
      "\n"
     ]
    },
    {
     "name": "stderr",
     "output_type": "stream",
     "text": [
      "/home/finn/Documents/python-venvs/aml/lib/python3.10/site-packages/gym/utils/passive_env_checker.py:233: DeprecationWarning: `np.bool8` is a deprecated alias for `np.bool_`.  (Deprecated NumPy 1.24)\n",
      "  if not isinstance(terminated, (bool, np.bool8)):\n"
     ]
    }
   ],
   "source": [
    "env.step(2)\n",
    "print(env.render())"
   ]
  },
  {
   "cell_type": "markdown",
   "id": "9ba3fd99",
   "metadata": {},
   "source": [
    "### Creating the Q-Table\n",
    "Now, construct your Q-table, and initialize all the Q-values to zero for each state-action pair.\n",
    "The number of rows in the table is equivalent to the size of the state space in the environment, and the number of columns is equivalent to the size of the action space (see above). You can get this information using *env.observation_space.n* and *env.action_space.n* as shown below in the code. Then, you can use this information to build the Q-table and initialize it with zeros."
   ]
  },
  {
   "cell_type": "code",
   "execution_count": 5,
   "id": "349627df",
   "metadata": {
    "tags": []
   },
   "outputs": [],
   "source": [
    "env.reset()\n",
    "action_space_size = env.action_space.n\n",
    "state_space_size = env.observation_space.n\n",
    "\n",
    "q_table = np.zeros((state_space_size, action_space_size))"
   ]
  },
  {
   "cell_type": "code",
   "execution_count": 6,
   "id": "9ac22125",
   "metadata": {
    "tags": []
   },
   "outputs": [
    {
     "name": "stdout",
     "output_type": "stream",
     "text": [
      "[[0. 0. 0. 0.]\n",
      " [0. 0. 0. 0.]\n",
      " [0. 0. 0. 0.]\n",
      " [0. 0. 0. 0.]\n",
      " [0. 0. 0. 0.]\n",
      " [0. 0. 0. 0.]\n",
      " [0. 0. 0. 0.]\n",
      " [0. 0. 0. 0.]\n",
      " [0. 0. 0. 0.]\n",
      " [0. 0. 0. 0.]\n",
      " [0. 0. 0. 0.]\n",
      " [0. 0. 0. 0.]\n",
      " [0. 0. 0. 0.]\n",
      " [0. 0. 0. 0.]\n",
      " [0. 0. 0. 0.]\n",
      " [0. 0. 0. 0.]]\n"
     ]
    }
   ],
   "source": [
    "print(q_table)"
   ]
  },
  {
   "cell_type": "markdown",
   "id": "6d662212",
   "metadata": {},
   "source": [
    "### Initializing Q-Learning hyperparameters\n",
    "Now, we're going to create and initialize all the parameters needed to implement the Q-learning algorithm.\n",
    "\n",
    "First, with *num_episodes*, you define the total number of episodes you want the agent to play during training. Then, with *max_steps_per_episode*, you define a maximum number of steps that your agent is allowed to take within a single episode. So, if by the 100th step, the agent has not reached the frisbee or fallen through a hole, then the episode will terminate with the agent receiving zero points.\n",
    "\n",
    "Next, you will set your *learning_rate* and your *discount_rate* as well, which was represented with the symbol (lambda (I think he means gamma)) in the course slides (keyword: discounted return G_t).\n",
    "\n",
    "Now, the last four parameters are all related to the exploration-exploitation dilemma with respect to the epsilon-greedy policy. You are initializing your *exploration_rate* to **1** and setting the *max_exploration_rate* to **1** and a *min_exploration_rate* to **0.01**. The *max* and *min* are just bounds to how large or small your exploration rate can be. Remember, the exploration rate was represented with the symbol (epsilon) when discussed in the course slides.\n",
    "\n",
    "Lastly, you will set the *exploration_decay_rate* to **0.01** to determine the rate at which the *exploration_rate* will decay."
   ]
  },
  {
   "cell_type": "markdown",
   "id": "40f34d94",
   "metadata": {},
   "source": [
    "**YOUR <font color=\"FFC300\">TASK</font> in this exercise is as follows** (point 7 from the task list above):\n",
    "\n",
    "All of the above parameters can change!\n",
    "Your task is to create a *testplan* and tune all parameters by yourself and observe how they influence and change the performance of the algorithm. \n",
    "Make notes! They will help you during the exam."
   ]
  },
  {
   "cell_type": "code",
   "execution_count": 7,
   "id": "8d8b6568-0700-473a-9701-ab26ee962f0e",
   "metadata": {
    "tags": []
   },
   "outputs": [
    {
     "data": {
      "text/plain": [
       "array([[0.94147703, 0.95099005, 0.9313782 , 0.9414776 ],\n",
       "       [0.94141197, 0.        , 0.00570332, 0.31865703],\n",
       "       [0.00487069, 0.10655382, 0.        , 0.        ],\n",
       "       [0.        , 0.        , 0.        , 0.        ],\n",
       "       [0.95092174, 0.96059601, 0.        , 0.94143349],\n",
       "       [0.        , 0.        , 0.        , 0.        ],\n",
       "       [0.        , 0.25984195, 0.        , 0.01363852],\n",
       "       [0.        , 0.        , 0.        , 0.        ],\n",
       "       [0.96058457, 0.        , 0.970299  , 0.95097694],\n",
       "       [0.96059354, 0.9801    , 0.98009203, 0.        ],\n",
       "       [0.58240518, 0.99      , 0.        , 0.05547273],\n",
       "       [0.        , 0.        , 0.        , 0.        ],\n",
       "       [0.        , 0.        , 0.        , 0.        ],\n",
       "       [0.        , 0.9800991 , 0.99      , 0.970297  ],\n",
       "       [0.98008186, 0.98994194, 1.        , 0.98005278],\n",
       "       [0.        , 0.        , 0.        , 0.        ]])"
      ]
     },
     "execution_count": 7,
     "metadata": {},
     "output_type": "execute_result"
    }
   ],
   "source": [
    "\n",
    "def reinforcement_learning(env, \n",
    "                           n_episodes: int, \n",
    "                           max_steps_per_episode: int,\n",
    "                           epsilon: float, \n",
    "                           epsilon_bounds: dict[str, float], \n",
    "                           epsilon_decay_rate:float, \n",
    "                           gamma: float, \n",
    "                           alpha: float):\n",
    "    rewards = []\n",
    "    q_table = np.zeros((env.observation_space.n, env.action_space.n))\n",
    "    for episode in range(n_episodes): \n",
    "        state, _ = env.reset()\n",
    "        done = False\n",
    "        i = 0 \n",
    "        cur_reward = 0\n",
    "        for step in range(max_steps_per_episode): \n",
    "            if np.random.uniform(0, 1) < epsilon: \n",
    "                # print(\"exploring\")\n",
    "                action = env.action_space.sample()\n",
    "            else: \n",
    "                # print(\"exploting\")\n",
    "                action = np.argmax(q_table[state, :])\n",
    "            new_state, reward, done, *_ = env.step(action)\n",
    "            q_table[state, action] = q_table[state, action] * (1 - alpha) + alpha * (reward + gamma * np.max(q_table[new_state, :]))\n",
    "            cur_reward += reward\n",
    "            state = new_state\n",
    "            i += 1\n",
    "            if done: \n",
    "                break\n",
    "        rewards.append(cur_reward)\n",
    "            \n",
    "        epsilon = epsilon_bounds[\"lower\"] + (epsilon_bounds[\"upper\"] - epsilon_bounds[\"lower\"]) * np.exp(-epsilon_decay_rate * episode)\n",
    "    return q_table, np.array(rewards)\n",
    "\n",
    "\n",
    "q_table, rewards = reinforcement_learning(env, 10000, 100, 1.0, {\"upper\": 1, \"lower\": .01}, .005, .99, 0.2)\n",
    "q_table"
   ]
  },
  {
   "cell_type": "code",
   "execution_count": 8,
   "id": "f5f96ca9-5d2d-410b-896f-559d2cf0c560",
   "metadata": {
    "tags": []
   },
   "outputs": [
    {
     "name": "stdout",
     "output_type": "stream",
     "text": [
      "\n",
      "\u001b[41mS\u001b[0mFFF\n",
      "FHFH\n",
      "FFFH\n",
      "HFFG\n",
      "\n",
      "4\n",
      "  (Down)\n",
      "SFFF\n",
      "\u001b[41mF\u001b[0mHFH\n",
      "FFFH\n",
      "HFFG\n",
      "\n",
      "8\n",
      "  (Down)\n",
      "SFFF\n",
      "FHFH\n",
      "\u001b[41mF\u001b[0mFFH\n",
      "HFFG\n",
      "\n",
      "9\n",
      "  (Right)\n",
      "SFFF\n",
      "FHFH\n",
      "F\u001b[41mF\u001b[0mFH\n",
      "HFFG\n",
      "\n",
      "13\n",
      "  (Down)\n",
      "SFFF\n",
      "FHFH\n",
      "FFFH\n",
      "H\u001b[41mF\u001b[0mFG\n",
      "\n",
      "14\n",
      "  (Right)\n",
      "SFFF\n",
      "FHFH\n",
      "FFFH\n",
      "HF\u001b[41mF\u001b[0mG\n",
      "\n",
      "15\n",
      "  (Right)\n",
      "SFFF\n",
      "FHFH\n",
      "FFFH\n",
      "HFF\u001b[41mG\u001b[0m\n",
      "\n"
     ]
    }
   ],
   "source": [
    "# optimal route\n",
    "\n",
    "done = False\n",
    "current_idx = 0\n",
    "env.reset()\n",
    "while not done: \n",
    "    print(env.render())\n",
    "    step = np.argmax(q_table[current_idx, :])\n",
    "    current_idx, _, done, *_ = env.step(step)\n",
    "    print(current_idx)\n",
    "print(env.render())  "
   ]
  },
  {
   "cell_type": "code",
   "execution_count": 9,
   "id": "f78a3bd1-f908-4985-a7b0-61b358eca8bd",
   "metadata": {
    "tags": []
   },
   "outputs": [
    {
     "data": {
      "text/plain": [
       "array([0.787, 0.987, 0.991, 0.994, 0.991, 0.987, 0.992, 0.996, 0.989,\n",
       "       0.989])"
      ]
     },
     "execution_count": 9,
     "metadata": {},
     "output_type": "execute_result"
    }
   ],
   "source": [
    "def rewards_every_n_episodes(rewards: np.ndarray, n: int):\n",
    "    return rewards.reshape(-1, n).mean(axis=1)\n",
    "\n",
    "rewards_every_n_episodes(rewards, 1000)"
   ]
  },
  {
   "cell_type": "markdown",
   "id": "6acc933f-7c71-454f-9545-f0e45090b980",
   "metadata": {
    "tags": []
   },
   "source": [
    "Add a bit of randomness to the environment: Turn on slippery as the default\n"
   ]
  },
  {
   "cell_type": "code",
   "execution_count": 18,
   "id": "263f1459-2f45-460e-ae65-39dc8dce9c3a",
   "metadata": {
    "tags": []
   },
   "outputs": [
    {
     "data": {
      "text/plain": [
       "array([[0.5442271 , 0.49706846, 0.47921574, 0.4804302 ],\n",
       "       [0.29603973, 0.23249321, 0.27261032, 0.45314155],\n",
       "       [0.36582607, 0.34027133, 0.36795826, 0.4142417 ],\n",
       "       [0.29094198, 0.20455567, 0.21554683, 0.38961472],\n",
       "       [0.56860119, 0.35064583, 0.33013968, 0.43329239],\n",
       "       [0.        , 0.        , 0.        , 0.        ],\n",
       "       [0.05740262, 0.04863847, 0.34848616, 0.06015897],\n",
       "       [0.        , 0.        , 0.        , 0.        ],\n",
       "       [0.39441174, 0.36174022, 0.31725971, 0.59981436],\n",
       "       [0.42191864, 0.68512412, 0.38500997, 0.41817429],\n",
       "       [0.55046918, 0.33690372, 0.36493109, 0.28818127],\n",
       "       [0.        , 0.        , 0.        , 0.        ],\n",
       "       [0.        , 0.        , 0.        , 0.        ],\n",
       "       [0.55991186, 0.52871621, 0.8008166 , 0.62825662],\n",
       "       [0.68155162, 0.91509819, 0.68083684, 0.63273983],\n",
       "       [0.        , 0.        , 0.        , 0.        ]])"
      ]
     },
     "execution_count": 18,
     "metadata": {},
     "output_type": "execute_result"
    }
   ],
   "source": [
    "env = gym.make(\"FrozenLake-v1\", is_slippery=True, render_mode=\"ansi\")\n",
    "env.reset()\n",
    "\n",
    "q_table, rewards = reinforcement_learning(env, 10_000, 1000, 1.0, {\"upper\": 1, \"lower\": .01}, .005, .99, 0.2)\n",
    "q_table"
   ]
  },
  {
   "cell_type": "code",
   "execution_count": 19,
   "id": "be3f7516-b73d-4435-a825-981aad4811f9",
   "metadata": {
    "tags": []
   },
   "outputs": [
    {
     "data": {
      "text/plain": [
       "array([0.038, 0.104, 0.117, 0.575, 0.749, 0.724, 0.791, 0.747, 0.717,\n",
       "       0.749])"
      ]
     },
     "execution_count": 19,
     "metadata": {},
     "output_type": "execute_result"
    }
   ],
   "source": [
    "rewards_every_n_episodes(rewards, 1000)"
   ]
  },
  {
   "cell_type": "code",
   "execution_count": null,
   "id": "623bab2a-9e8e-4a36-9cc3-7e8bc1b7a881",
   "metadata": {
    "tags": []
   },
   "outputs": [],
   "source": [
    "## change some hyperparameters \n",
    "\n",
    "for gamma in [0.2, 0.5, 0.9, 0.99, 0.999999]:\n",
    "    _, rewards = reinforcement_learning(env=env, \n",
    "                                        n_episodes=10_000, \n",
    "                                        max_steps_per_episode=100, \n",
    "                                        epsilon=1.0, \n",
    "                                        epsilon_bounds={\"upper\": 1, \"lower\": .01}, \n",
    "                                        epsilon_decay_rate=.005, \n",
    "                                        gamma=gamma, \n",
    "                                        alpha=0.2)\n",
    "    rewards1000 = rewards_every_n_episodes(rewards, 1000))"
   ]
  },
  {
   "cell_type": "code",
   "execution_count": 56,
   "id": "9aa1678f-d2fa-43fd-8301-8d9397dfde13",
   "metadata": {
    "tags": []
   },
   "outputs": [
    {
     "name": "stdout",
     "output_type": "stream",
     "text": [
      "[0.052 0.201 0.378 0.547 0.61  0.661 0.659 0.633 0.653 0.66 ]\n",
      "[0.051 0.207 0.357 0.533 0.583 0.659 0.618 0.668 0.657 0.69 ]\n",
      "[0.049 0.206 0.365 0.542 0.612 0.646 0.669 0.667 0.67  0.655]\n",
      "[0.042 0.178 0.395 0.522 0.616 0.641 0.667 0.664 0.671 0.674]\n",
      "[0.046 0.208 0.4   0.542 0.65  0.654 0.67  0.663 0.682 0.672]\n",
      "[0.041 0.149 0.42  0.579 0.619 0.648 0.658 0.684 0.642 0.651]\n",
      "[0.057 0.179 0.404 0.499 0.628 0.674 0.676 0.705 0.677 0.663]\n",
      "[0.045 0.196 0.39  0.532 0.602 0.658 0.662 0.66  0.675 0.672]\n",
      "[0.04  0.194 0.372 0.534 0.575 0.66  0.669 0.647 0.64  0.687]\n",
      "[0.045 0.183 0.372 0.548 0.626 0.634 0.651 0.656 0.67  0.662]\n",
      "[0.04  0.21  0.369 0.547 0.604 0.62  0.68  0.685 0.638 0.661]\n",
      "[0.063 0.181 0.406 0.539 0.63  0.646 0.649 0.656 0.663 0.715]\n",
      "[0.042 0.21  0.374 0.489 0.607 0.62  0.683 0.675 0.651 0.696]\n",
      "[0.066 0.165 0.39  0.533 0.599 0.669 0.697 0.648 0.683 0.669]\n",
      "[0.048 0.185 0.388 0.528 0.63  0.644 0.604 0.659 0.641 0.661]\n",
      "[0.048 0.181 0.399 0.541 0.611 0.634 0.67  0.663 0.697 0.654]\n",
      "[0.052 0.188 0.397 0.531 0.609 0.645 0.642 0.665 0.657 0.66 ]\n",
      "[0.059 0.192 0.364 0.514 0.63  0.655 0.66  0.669 0.668 0.66 ]\n",
      "[0.044 0.18  0.366 0.539 0.613 0.623 0.652 0.67  0.671 0.669]\n",
      "[0.045 0.204 0.386 0.529 0.616 0.644 0.655 0.648 0.661 0.698]\n",
      "[0.05  0.179 0.378 0.529 0.6   0.63  0.686 0.66  0.662 0.657]\n",
      "[0.047 0.185 0.406 0.52  0.613 0.677 0.676 0.685 0.683 0.668]\n",
      "[0.04  0.194 0.392 0.499 0.657 0.67  0.683 0.669 0.682 0.653]\n",
      "[0.046 0.19  0.401 0.537 0.588 0.603 0.661 0.662 0.643 0.658]\n",
      "[0.069 0.199 0.375 0.56  0.579 0.62  0.634 0.661 0.666 0.666]\n",
      "[0.045 0.197 0.376 0.549 0.607 0.67  0.637 0.68  0.662 0.65 ]\n",
      "[0.051 0.195 0.385 0.522 0.602 0.622 0.636 0.67  0.649 0.624]\n",
      "[0.054 0.193 0.379 0.529 0.65  0.646 0.669 0.659 0.67  0.697]\n",
      "[0.045 0.191 0.372 0.538 0.6   0.654 0.669 0.669 0.627 0.646]\n",
      "[0.053 0.183 0.399 0.508 0.623 0.639 0.653 0.663 0.662 0.66 ]\n",
      "[0.063 0.202 0.357 0.512 0.614 0.655 0.677 0.654 0.653 0.68 ]\n",
      "[0.05  0.205 0.374 0.521 0.625 0.657 0.681 0.628 0.658 0.667]\n",
      "[0.04  0.188 0.388 0.546 0.609 0.648 0.631 0.669 0.65  0.691]\n",
      "[0.034 0.201 0.381 0.561 0.625 0.642 0.672 0.655 0.649 0.65 ]\n",
      "[0.044 0.2   0.379 0.549 0.634 0.664 0.625 0.721 0.668 0.674]\n",
      "[0.05  0.175 0.367 0.547 0.573 0.647 0.673 0.676 0.691 0.683]\n",
      "[0.048 0.18  0.387 0.559 0.627 0.663 0.665 0.673 0.682 0.678]\n",
      "[0.04  0.178 0.398 0.55  0.638 0.65  0.656 0.665 0.682 0.667]\n",
      "[0.043 0.186 0.397 0.563 0.623 0.636 0.676 0.667 0.689 0.669]\n",
      "[0.046 0.181 0.399 0.51  0.597 0.662 0.631 0.705 0.67  0.731]\n",
      "[0.049 0.19  0.407 0.527 0.592 0.656 0.682 0.677 0.685 0.678]\n",
      "[0.048 0.198 0.366 0.538 0.637 0.66  0.661 0.682 0.668 0.683]\n",
      "[0.027 0.198 0.387 0.51  0.614 0.63  0.621 0.635 0.675 0.673]\n",
      "[0.047 0.18  0.376 0.529 0.571 0.656 0.645 0.682 0.663 0.674]\n",
      "[0.041 0.2   0.368 0.541 0.604 0.643 0.659 0.644 0.675 0.672]\n",
      "[0.054 0.199 0.399 0.558 0.642 0.622 0.662 0.672 0.644 0.669]\n",
      "[0.043 0.205 0.381 0.55  0.628 0.636 0.61  0.684 0.644 0.629]\n",
      "[0.042 0.21  0.384 0.524 0.626 0.658 0.662 0.65  0.676 0.689]\n",
      "[0.046 0.197 0.369 0.513 0.626 0.656 0.689 0.67  0.664 0.667]\n",
      "[0.063 0.191 0.396 0.527 0.611 0.664 0.673 0.653 0.654 0.706]\n"
     ]
    }
   ],
   "source": [
    "for _ in range(50):\n",
    "    _, rewards = reinforcement_learning(env=env, \n",
    "                                        n_episodes=10_000, \n",
    "                                        max_steps_per_episode=100, \n",
    "                                        epsilon=1.0, \n",
    "                                        epsilon_bounds={\"upper\": 1, \"lower\": .01}, \n",
    "                                        epsilon_decay_rate=.001, \n",
    "                                        gamma=.99, \n",
    "                                        alpha=0.2)\n",
    "    print(rewards_every_n_episodes(rewards, 1000))"
   ]
  },
  {
   "cell_type": "code",
   "execution_count": null,
   "id": "619f5d91-c631-46b2-b98c-191aa15fa690",
   "metadata": {
    "tags": []
   },
   "outputs": [],
   "source": []
  },
  {
   "cell_type": "code",
   "execution_count": null,
   "id": "cc0facf4-d373-4f53-b50d-dbcdddc27c6e",
   "metadata": {
    "tags": []
   },
   "outputs": [],
   "source": []
  },
  {
   "cell_type": "code",
   "execution_count": null,
   "id": "a2962798-915f-4549-ad2b-f5fa619d5f19",
   "metadata": {
    "tags": []
   },
   "outputs": [],
   "source": []
  },
  {
   "cell_type": "code",
   "execution_count": null,
   "id": "886c681e-5b7f-4809-9d9a-09a2d59ebe7f",
   "metadata": {
    "tags": []
   },
   "outputs": [],
   "source": []
  },
  {
   "cell_type": "markdown",
   "id": "ac087582",
   "metadata": {},
   "source": [
    "Create a list to hold all of the rewards you will get from each episode. \n",
    "By means of this you can observe how your game score changes over time."
   ]
  },
  {
   "cell_type": "code",
   "execution_count": null,
   "id": "7bf6194e",
   "metadata": {
    "tags": []
   },
   "outputs": [],
   "source": [
    "num_episodes = 10000\n",
    "max_steps_per_episode = 100\n",
    "\n",
    "learning_rate = 0.2\n",
    "discount_rate = 0.99\n",
    "\n",
    "exploration_rate = 1\n",
    "max_exploration_rate = 1\n",
    "min_exploration_rate = 0.01\n",
    "exploration_decay_rate = 0.005\n",
    "\n",
    "rewards_all_episodes = []"
   ]
  },
  {
   "cell_type": "markdown",
   "id": "39502e30",
   "metadata": {},
   "source": [
    "In the following code section, the entire Q-learning algorithm is implemented as discussed in detail in the AML course. \n",
    "When this code is executed, this is exactly where the training will take place. \n",
    "* The first for-loop contains everything that happens within a single episode. \n",
    "* The second nested loop contains everything that happens for a single time-step.\n",
    "\n",
    "Read all the red comments, as they contain lots of important information on the implementation."
   ]
  },
  {
   "cell_type": "code",
   "execution_count": null,
   "id": "c6dad9e9",
   "metadata": {
    "tags": []
   },
   "outputs": [],
   "source": [
    "# Q-learning algorithm\n",
    "\n",
    "# loop: for a single episode\n",
    "for episode in range(num_episodes):\n",
    "    # initialize 'new episode' parameters\n",
    "    state, info = env.reset()\n",
    "    ''' The done variable just keeps track of whether or not your episode is finished.\n",
    "    Initialize it to False when first starting the episode and you will see later where \n",
    "    it will get updated to notify you when the episode is over.'''\n",
    "    done = False\n",
    "    \n",
    "    ''' Keep track of the rewards within the current episode as well.\n",
    "    Hence, set rewards_current_episode = 0 since you start \n",
    "    with no rewards at the beginning of each episode.'''\n",
    "    rewards_current_episode = 0\n",
    "\n",
    "    # nested loop: for a single time-step\n",
    "    for step in range(max_steps_per_episode): \n",
    "        # Exploration-exploitation trade-off\n",
    "        '''For each time-step within an episode set your exploration_rate_threshold \n",
    "        to a random number between 0 and 1. This will be used to determine whether \n",
    "        your agent will explore or exploit the environment in this time-step.'''\n",
    "        if random.uniform(0, 1) > exploration_rate:\n",
    "            action = np.argmax(q_table[state,:]) \n",
    "        else:\n",
    "            action = env.action_space.sample()\n",
    "\n",
    "        # Take new action\n",
    "        '''After action is chosen, take that action by calling step() on your env object and \n",
    "        pass your action to it. The function step() returns a tuple containing the new state, \n",
    "        the reward for the action you took, whether or not the action ended the episode and \n",
    "        diagnostic information regarding the environment (helpful for debugging).'''\n",
    "        new_state, reward, done, truncated, info = env.step(action)\n",
    "\n",
    "        # Update Q-table for Q(s,a)\n",
    "        '''Compare this implementation with the equation in the course slides.'''\n",
    "        q_table[state, action] = q_table[state, action] * (1 - learning_rate) + learning_rate * (reward + discount_rate * np.max(q_table[new_state, :]))\n",
    "        \n",
    "        '''Set your current state to the new_state that was returned when taking the last action \n",
    "        and then update the rewards from your current episode by adding the reward you received \n",
    "        for your previous action.'''\n",
    "        # Set new state\n",
    "        state = new_state\n",
    "        # Add new reward \n",
    "        rewards_current_episode += reward \n",
    "        '''Then, check to see if your last action ended the episode \n",
    "        (game over by agent stepping in a hole or reaching the goal)! \n",
    "        If the action did end the episode, then jump out of this loop and start the next episode.\n",
    "        Otherwise, transition to the next time-step.'''\n",
    "        if done: \n",
    "            break\n",
    "            \n",
    "    # Exploration rate decay\n",
    "    '''Once an episode is finished, you need to update your exploration_rate using exponential decay, \n",
    "    which just means that the exploration rate decays at a rate proportional to its current value. \n",
    "    You can decay the exploration_rate using the formula above, which makes use of all the exploration \n",
    "    rate parameters that were defined above in the hyperparameter section.'''\n",
    "    \n",
    "    exploration_rate = min_exploration_rate + (max_exploration_rate - min_exploration_rate) * np.exp(-exploration_decay_rate*episode)\n",
    "    \n",
    "    # Add current episode reward to total rewards list and move on to the next episode\n",
    "    rewards_all_episodes.append(rewards_current_episode)\n",
    "\n",
    "np.array(rewards_all_episodes)"
   ]
  },
  {
   "cell_type": "markdown",
   "id": "f3acbce7",
   "metadata": {},
   "source": [
    "### All episodes training completed\n",
    "After all episodes are finished you now just calculate the average reward per thousand episodes from your list that contains the rewards for all episodes so that you can print it out and see how the rewards changed over time."
   ]
  },
  {
   "cell_type": "code",
   "execution_count": null,
   "id": "03097b41",
   "metadata": {},
   "outputs": [],
   "source": [
    "# Calculate and print the average reward per thousand episodes\n",
    "rewards_per_thousand_episodes = np.split(np.array(rewards_all_episodes),num_episodes/1000)\n",
    "count = 1000\n",
    "\n",
    "print(\"********Average reward per thousand episodes********\\n\")\n",
    "for r in rewards_per_thousand_episodes:\n",
    "    print(count, \": \", str(sum(r/1000)))\n",
    "    count += 1000"
   ]
  },
  {
   "cell_type": "markdown",
   "id": "d66e875b",
   "metadata": {},
   "source": [
    "### Interpretation"
   ]
  },
  {
   "cell_type": "markdown",
   "id": "6771b72f",
   "metadata": {},
   "source": [
    "From this print, you can see that the average reward per thousand episodes did indeed progress over time. When the algorithm first started training, the first thousand episodes only averaged a reward of almost **0.18**, but by the time it got to its last thousand episodes, the reward drastically improved to almost **0.7**.\n",
    "\n",
    "Let's take a second to understand how you can interpret these results. Your agent played **10000** episodes. At each time step within an episode, the agent received a reward of **1** if it reached the frisbee, otherwise, it received a reward of **0**. If the agent did indeed reach the frisbee, then the episode finished at that time-step.\n",
    "\n",
    "Hence, that means for each episode, the total reward received by the agent for the entire episode is either **1** or **0**. So, for the first thousand episodes, you can interpret this score as meaning that **18%** of the time the agent received a reward of **1** and won the episode. And by the last thousand episodes from a total of **10000**, the agent was winning almost **70%** of the time.\n",
    "\n",
    "By analyzing the grid of the game, you can see it is a lot more likely that the agent would fall in a hole or perhaps reach the max time steps than it is to reach the frisbee, so reaching the frisbee **70%** of the time is not too bad, especially since the agent had no explicit instructions to reach the frisbee. It learned that this is the correct thing to do.\n",
    "\n",
    "* SFFF\n",
    "* FHFH\n",
    "* FFFH\n",
    "* HFFG\n",
    "\n",
    "At last, print out your updated Q-table to see how that has transitioned from its initial state of all zeros."
   ]
  },
  {
   "cell_type": "code",
   "execution_count": null,
   "id": "68fbc5bc",
   "metadata": {},
   "outputs": [],
   "source": [
    "# Print updated Q-table\n",
    "print(\"\\n\\n********Q-table********\\n\")\n",
    "print(q_table)"
   ]
  },
  {
   "cell_type": "code",
   "execution_count": null,
   "id": "764b6d11-cc15-425f-af2e-3c6753dab74d",
   "metadata": {},
   "outputs": [],
   "source": []
  },
  {
   "cell_type": "code",
   "execution_count": null,
   "id": "b1382e78-8d62-48cc-8cc4-7fed6d568b4d",
   "metadata": {},
   "outputs": [],
   "source": []
  }
 ],
 "metadata": {
  "kernelspec": {
   "display_name": "aml",
   "language": "python",
   "name": "aml"
  },
  "language_info": {
   "codemirror_mode": {
    "name": "ipython",
    "version": 3
   },
   "file_extension": ".py",
   "mimetype": "text/x-python",
   "name": "python",
   "nbconvert_exporter": "python",
   "pygments_lexer": "ipython3",
   "version": "3.10.12"
  }
 },
 "nbformat": 4,
 "nbformat_minor": 5
}
