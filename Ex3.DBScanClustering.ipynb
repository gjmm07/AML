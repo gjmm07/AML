{
 "cells": [
  {
   "cell_type": "markdown",
   "id": "f7c6818b",
   "metadata": {},
   "source": [
    "<img src=\"https://www.th-koeln.de/img/logo.svg\" style=\"float:right;\" width=\"200\">"
   ]
  },
  {
   "cell_type": "markdown",
   "id": "58702112",
   "metadata": {},
   "source": [
    "# 3rd exercise: <font color=\"#C70039\">Do DBScan clustering for anomaly detection</font>\n",
    "* Course: AML\n",
    "* Lecturer: <a href=\"https://www.gernotheisenberg.de/\">Gernot Heisenberg</a>\n",
    "* Author of notebook: Finn Heydemann\n",
    "* Date:   28.10.2023\n",
    "\n",
    "<img src=\"https://upload.wikimedia.org/wikipedia/commons/thumb/a/af/DBSCAN-Illustration.svg/400px-DBSCAN-Illustration.svg.png\" style=\"float: center;\" width=\"450\">\n",
    "\n",
    "---------------------------------\n",
    "**GENERAL NOTE 1**: \n",
    "Please make sure you are reading the entire notebook, since it contains a lot of information on your tasks (e.g. regarding the set of certain paramaters or a specific computational trick), and the written mark downs as well as comments contain a lot of information on how things work together as a whole. \n",
    "\n",
    "**GENERAL NOTE 2**: \n",
    "* Please, when commenting source code, just use English language only. \n",
    "* When describing an observation please use English language, too\n",
    "* This applies to all exercises throughout this course.  \n",
    "\n",
    "---------------------\n",
    "\n",
    "### <font color=\"ce33ff\">DESCRIPTION</font>:\n",
    "This notebook allows you for using the DBScan clustering algorithm for anomaly detection.\n",
    "\n",
    "-------------------------------------------------------------------------------------------------------------\n",
    "\n",
    "### <font color=\"FFC300\">TASKS</font>:\n",
    "The tasks that you need to work on within this notebook are always indicated below as bullet points. \n",
    "If a task is more challenging and consists of several steps, this is indicated as well. \n",
    "Make sure you have worked down the task list and commented your doings. \n",
    "This should be done by using markdown.<br> \n",
    "<font color=red>Make sure you don't forget to specify your name and your matriculation number in the notebook.</font>\n",
    "\n",
    "**YOUR TASKS in this exercise are as follows**:\n",
    "1. import the notebook to Google Colab or use your local machine.\n",
    "2. make sure you specified you name and your matriculation number in the header below my name and date. \n",
    "    * set the date too and remove mine.\n",
    "3. read the entire notebook carefully \n",
    "    * add comments whereever you feel it necessary for better understanding\n",
    "    * run the notebook for the first time. \n",
    "4. take the three data sets from exercize 1 and cluster them\n",
    "5. read the following <a href=\"https://stats.stackexchange.com/questions/88872/a-routine-to-choose-eps-and-minpts-for-dbscan\">article</a> for getting help estimating eps and minPts\n",
    "    * https://stats.stackexchange.com/questions/88872/a-routine-to-choose-eps-and-minpts-for-dbscan\n",
    "6. describe your findings and interpret the results\n",
    "-----------------------------------------------------------------------------------"
   ]
  },
  {
   "cell_type": "code",
   "execution_count": 1,
   "id": "522a8e3c",
   "metadata": {
    "tags": []
   },
   "outputs": [],
   "source": [
    "from sklearn.cluster import DBSCAN\n",
    "import numpy as np\n",
    "from numpy.random import randn\n",
    "np.random.seed(1)\n",
    "random_data = np.random.randn(50000,2)  * 20 + 20"
   ]
  },
  {
   "cell_type": "markdown",
   "id": "0641d0d0",
   "metadata": {},
   "source": [
    "The output of the below code is 94. This is the total number of noisy points. SKLearn labels the noisy points as (-1). The downside with this method is that the higher the dimension, the less accurate it becomes. You also need to make a few assumptions like estimating the right value for eps which can be challenging."
   ]
  },
  {
   "cell_type": "code",
   "execution_count": 2,
   "id": "bb98bcc3",
   "metadata": {
    "tags": []
   },
   "outputs": [
    {
     "data": {
      "text/plain": [
       "94"
      ]
     },
     "execution_count": 2,
     "metadata": {},
     "output_type": "execute_result"
    }
   ],
   "source": [
    "# hyperparameters\n",
    "minPts = 2\n",
    "eps = 3\n",
    "\n",
    "outlier_detection = DBSCAN(min_samples = minPts, eps = eps)\n",
    "\n",
    "clusters = outlier_detection.fit_predict(random_data)\n",
    "\n",
    "list(clusters).count(-1)"
   ]
  },
  {
   "cell_type": "code",
   "execution_count": 47,
   "id": "07215f17-1cca-4725-89b7-f973ad881109",
   "metadata": {
    "tags": []
   },
   "outputs": [],
   "source": [
    "import pandas as pd \n",
    "\n",
    "def outlier_detection_dbscan(data: np.ndarray, minPts: int, eps: int):\n",
    "    if isinstance(data, pd.Series): \n",
    "        data = data.to_numpy()\n",
    "    if data.ndim == 1: \n",
    "        data = data[:, np.newaxis]\n",
    "    clusters = DBSCAN(min_samples=minPts, eps=eps).fit_predict(data)\n",
    "    return clusters, list(clusters).count(-1)\n"
   ]
  },
  {
   "cell_type": "code",
   "execution_count": 63,
   "id": "28c11cc4-c73b-487b-9034-094e11ff6850",
   "metadata": {
    "tags": []
   },
   "outputs": [
    {
     "data": {
      "text/html": [
       "<div>\n",
       "<style scoped>\n",
       "    .dataframe tbody tr th:only-of-type {\n",
       "        vertical-align: middle;\n",
       "    }\n",
       "\n",
       "    .dataframe tbody tr th {\n",
       "        vertical-align: top;\n",
       "    }\n",
       "\n",
       "    .dataframe thead th {\n",
       "        text-align: right;\n",
       "    }\n",
       "</style>\n",
       "<table border=\"1\" class=\"dataframe\">\n",
       "  <thead>\n",
       "    <tr style=\"text-align: right;\">\n",
       "      <th></th>\n",
       "      <th>gender</th>\n",
       "      <th>race/ethnicity</th>\n",
       "      <th>parental level of education</th>\n",
       "      <th>lunch</th>\n",
       "      <th>test preparation course</th>\n",
       "      <th>math score</th>\n",
       "      <th>reading score</th>\n",
       "      <th>writing score</th>\n",
       "    </tr>\n",
       "  </thead>\n",
       "  <tbody>\n",
       "    <tr>\n",
       "      <th>0</th>\n",
       "      <td>female</td>\n",
       "      <td>group B</td>\n",
       "      <td>bachelor's degree</td>\n",
       "      <td>standard</td>\n",
       "      <td>none</td>\n",
       "      <td>72</td>\n",
       "      <td>72</td>\n",
       "      <td>74</td>\n",
       "    </tr>\n",
       "    <tr>\n",
       "      <th>1</th>\n",
       "      <td>female</td>\n",
       "      <td>group C</td>\n",
       "      <td>some college</td>\n",
       "      <td>standard</td>\n",
       "      <td>completed</td>\n",
       "      <td>69</td>\n",
       "      <td>90</td>\n",
       "      <td>88</td>\n",
       "    </tr>\n",
       "    <tr>\n",
       "      <th>2</th>\n",
       "      <td>female</td>\n",
       "      <td>group B</td>\n",
       "      <td>master's degree</td>\n",
       "      <td>standard</td>\n",
       "      <td>none</td>\n",
       "      <td>90</td>\n",
       "      <td>95</td>\n",
       "      <td>93</td>\n",
       "    </tr>\n",
       "    <tr>\n",
       "      <th>3</th>\n",
       "      <td>male</td>\n",
       "      <td>group A</td>\n",
       "      <td>associate's degree</td>\n",
       "      <td>free/reduced</td>\n",
       "      <td>none</td>\n",
       "      <td>47</td>\n",
       "      <td>57</td>\n",
       "      <td>44</td>\n",
       "    </tr>\n",
       "    <tr>\n",
       "      <th>4</th>\n",
       "      <td>male</td>\n",
       "      <td>group C</td>\n",
       "      <td>some college</td>\n",
       "      <td>standard</td>\n",
       "      <td>none</td>\n",
       "      <td>76</td>\n",
       "      <td>78</td>\n",
       "      <td>75</td>\n",
       "    </tr>\n",
       "  </tbody>\n",
       "</table>\n",
       "</div>"
      ],
      "text/plain": [
       "   gender race/ethnicity parental level of education         lunch  \\\n",
       "0  female        group B           bachelor's degree      standard   \n",
       "1  female        group C                some college      standard   \n",
       "2  female        group B             master's degree      standard   \n",
       "3    male        group A          associate's degree  free/reduced   \n",
       "4    male        group C                some college      standard   \n",
       "\n",
       "  test preparation course  math score  reading score  writing score  \n",
       "0                    none          72             72             74  \n",
       "1               completed          69             90             88  \n",
       "2                    none          90             95             93  \n",
       "3                    none          47             57             44  \n",
       "4                    none          76             78             75  "
      ]
     },
     "execution_count": 63,
     "metadata": {},
     "output_type": "execute_result"
    }
   ],
   "source": [
    "data = pd.read_csv(\"data/exercise_1/StudentsPerformance.csv\")\n",
    "\n",
    "data.head()"
   ]
  },
  {
   "cell_type": "code",
   "execution_count": 83,
   "id": "0beba25f-02c6-478a-88af-f5bd1452f797",
   "metadata": {
    "tags": []
   },
   "outputs": [],
   "source": [
    "clusters, n_outliers = outlier_detection_dbscan(data[\"math score\"], 4, 1)"
   ]
  },
  {
   "cell_type": "code",
   "execution_count": 88,
   "id": "18198f73-f295-4b6a-b69c-b1d67a418ca7",
   "metadata": {
    "tags": []
   },
   "outputs": [
    {
     "data": {
      "text/html": [
       "<div>\n",
       "<style scoped>\n",
       "    .dataframe tbody tr th:only-of-type {\n",
       "        vertical-align: middle;\n",
       "    }\n",
       "\n",
       "    .dataframe tbody tr th {\n",
       "        vertical-align: top;\n",
       "    }\n",
       "\n",
       "    .dataframe thead th {\n",
       "        text-align: right;\n",
       "    }\n",
       "</style>\n",
       "<table border=\"1\" class=\"dataframe\">\n",
       "  <thead>\n",
       "    <tr style=\"text-align: right;\">\n",
       "      <th></th>\n",
       "      <th>gender</th>\n",
       "      <th>race/ethnicity</th>\n",
       "      <th>parental level of education</th>\n",
       "      <th>lunch</th>\n",
       "      <th>test preparation course</th>\n",
       "      <th>math score</th>\n",
       "      <th>reading score</th>\n",
       "      <th>writing score</th>\n",
       "    </tr>\n",
       "  </thead>\n",
       "  <tbody>\n",
       "    <tr>\n",
       "      <th>17</th>\n",
       "      <td>female</td>\n",
       "      <td>group B</td>\n",
       "      <td>some high school</td>\n",
       "      <td>free/reduced</td>\n",
       "      <td>none</td>\n",
       "      <td>18</td>\n",
       "      <td>32</td>\n",
       "      <td>28</td>\n",
       "    </tr>\n",
       "    <tr>\n",
       "      <th>59</th>\n",
       "      <td>female</td>\n",
       "      <td>group C</td>\n",
       "      <td>some high school</td>\n",
       "      <td>free/reduced</td>\n",
       "      <td>none</td>\n",
       "      <td>0</td>\n",
       "      <td>17</td>\n",
       "      <td>10</td>\n",
       "    </tr>\n",
       "    <tr>\n",
       "      <th>145</th>\n",
       "      <td>female</td>\n",
       "      <td>group C</td>\n",
       "      <td>some college</td>\n",
       "      <td>free/reduced</td>\n",
       "      <td>none</td>\n",
       "      <td>22</td>\n",
       "      <td>39</td>\n",
       "      <td>33</td>\n",
       "    </tr>\n",
       "    <tr>\n",
       "      <th>338</th>\n",
       "      <td>female</td>\n",
       "      <td>group B</td>\n",
       "      <td>some high school</td>\n",
       "      <td>free/reduced</td>\n",
       "      <td>none</td>\n",
       "      <td>24</td>\n",
       "      <td>38</td>\n",
       "      <td>27</td>\n",
       "    </tr>\n",
       "    <tr>\n",
       "      <th>787</th>\n",
       "      <td>female</td>\n",
       "      <td>group B</td>\n",
       "      <td>some college</td>\n",
       "      <td>standard</td>\n",
       "      <td>none</td>\n",
       "      <td>19</td>\n",
       "      <td>38</td>\n",
       "      <td>32</td>\n",
       "    </tr>\n",
       "    <tr>\n",
       "      <th>842</th>\n",
       "      <td>female</td>\n",
       "      <td>group B</td>\n",
       "      <td>high school</td>\n",
       "      <td>free/reduced</td>\n",
       "      <td>completed</td>\n",
       "      <td>23</td>\n",
       "      <td>44</td>\n",
       "      <td>36</td>\n",
       "    </tr>\n",
       "    <tr>\n",
       "      <th>980</th>\n",
       "      <td>female</td>\n",
       "      <td>group B</td>\n",
       "      <td>high school</td>\n",
       "      <td>free/reduced</td>\n",
       "      <td>none</td>\n",
       "      <td>8</td>\n",
       "      <td>24</td>\n",
       "      <td>23</td>\n",
       "    </tr>\n",
       "  </tbody>\n",
       "</table>\n",
       "</div>"
      ],
      "text/plain": [
       "     gender race/ethnicity parental level of education         lunch  \\\n",
       "17   female        group B            some high school  free/reduced   \n",
       "59   female        group C            some high school  free/reduced   \n",
       "145  female        group C                some college  free/reduced   \n",
       "338  female        group B            some high school  free/reduced   \n",
       "787  female        group B                some college      standard   \n",
       "842  female        group B                 high school  free/reduced   \n",
       "980  female        group B                 high school  free/reduced   \n",
       "\n",
       "    test preparation course  math score  reading score  writing score  \n",
       "17                     none          18             32             28  \n",
       "59                     none           0             17             10  \n",
       "145                    none          22             39             33  \n",
       "338                    none          24             38             27  \n",
       "787                    none          19             38             32  \n",
       "842               completed          23             44             36  \n",
       "980                    none           8             24             23  "
      ]
     },
     "execution_count": 88,
     "metadata": {},
     "output_type": "execute_result"
    }
   ],
   "source": [
    "data[clusters == -1]"
   ]
  },
  {
   "cell_type": "markdown",
   "id": "901d86dd-fc34-40fb-b726-993983fceeb2",
   "metadata": {
    "tags": []
   },
   "source": [
    "Because the math score is an integer an eps smaller than or equal to 0.5 clusters all students with that score except the one which don't have a \"partner score\". To detect outliers in this case it makes more sense to put eps to 1. 4 as minPts to classify a point as core points works well to group everything except the low mat score. Pretty equal to exercise 1 and 2 "
   ]
  },
  {
   "cell_type": "code",
   "execution_count": 89,
   "id": "53e26e5f-1a36-4418-88fd-6c762bb20d6b",
   "metadata": {
    "tags": []
   },
   "outputs": [
    {
     "name": "stderr",
     "output_type": "stream",
     "text": [
      "/tmp/ipykernel_63562/3201813435.py:1: DtypeWarning: Columns (2) have mixed types. Specify dtype option on import or set low_memory=False.\n",
      "  data = pd.read_csv(\"data/exercise_1/city_temperature.csv\")\n"
     ]
    }
   ],
   "source": [
    "data = pd.read_csv(\"data/exercise_1/city_temperature.csv\")\n",
    "data.drop(data[data[\"AvgTemperature\"] == -99].index, inplace=True)\n",
    "data[\"AvgTemperature\"] = (data[\"AvgTemperature\"] - 32) * 5/9 \n",
    "data[\"date\"] = pd.to_datetime(data[[\"Year\", \"Month\", \"Day\"]])\n",
    "data = data.set_index(\"date\").groupby([\"City\", pd.Grouper(freq=\"D\")])[\"AvgTemperature\"].mean()\n",
    "data = data.reset_index()"
   ]
  },
  {
   "cell_type": "code",
   "execution_count": 102,
   "id": "d7694297-07de-43aa-947f-5fc6063fa9ec",
   "metadata": {
    "tags": []
   },
   "outputs": [
    {
     "data": {
      "text/plain": [
       "7"
      ]
     },
     "execution_count": 102,
     "metadata": {},
     "output_type": "execute_result"
    }
   ],
   "source": [
    "data_brasilia = data[data[\"City\"] == \"Brasilia\"]\n",
    "clusters, n_outliers = outlier_detection_dbscan(data_brasilia[\"AvgTemperature\"], 10, 0.5)\n",
    "n_outliers"
   ]
  },
  {
   "cell_type": "code",
   "execution_count": 103,
   "id": "f8f62637-eab1-48e9-b145-8c3267e8d3f0",
   "metadata": {
    "tags": []
   },
   "outputs": [
    {
     "data": {
      "text/html": [
       "<div>\n",
       "<style scoped>\n",
       "    .dataframe tbody tr th:only-of-type {\n",
       "        vertical-align: middle;\n",
       "    }\n",
       "\n",
       "    .dataframe tbody tr th {\n",
       "        vertical-align: top;\n",
       "    }\n",
       "\n",
       "    .dataframe thead th {\n",
       "        text-align: right;\n",
       "    }\n",
       "</style>\n",
       "<table border=\"1\" class=\"dataframe\">\n",
       "  <thead>\n",
       "    <tr style=\"text-align: right;\">\n",
       "      <th></th>\n",
       "      <th>City</th>\n",
       "      <th>date</th>\n",
       "      <th>AvgTemperature</th>\n",
       "    </tr>\n",
       "  </thead>\n",
       "  <tbody>\n",
       "    <tr>\n",
       "      <th>406288</th>\n",
       "      <td>Brasilia</td>\n",
       "      <td>1996-06-29</td>\n",
       "      <td>13.666667</td>\n",
       "    </tr>\n",
       "    <tr>\n",
       "      <th>406289</th>\n",
       "      <td>Brasilia</td>\n",
       "      <td>1996-06-30</td>\n",
       "      <td>14.333333</td>\n",
       "    </tr>\n",
       "    <tr>\n",
       "      <th>407080</th>\n",
       "      <td>Brasilia</td>\n",
       "      <td>1998-09-06</td>\n",
       "      <td>30.000000</td>\n",
       "    </tr>\n",
       "    <tr>\n",
       "      <th>408563</th>\n",
       "      <td>Brasilia</td>\n",
       "      <td>2002-10-26</td>\n",
       "      <td>30.944444</td>\n",
       "    </tr>\n",
       "    <tr>\n",
       "      <th>409549</th>\n",
       "      <td>Brasilia</td>\n",
       "      <td>2005-07-10</td>\n",
       "      <td>14.333333</td>\n",
       "    </tr>\n",
       "    <tr>\n",
       "      <th>414262</th>\n",
       "      <td>Brasilia</td>\n",
       "      <td>2018-06-18</td>\n",
       "      <td>13.388889</td>\n",
       "    </tr>\n",
       "    <tr>\n",
       "      <th>414713</th>\n",
       "      <td>Brasilia</td>\n",
       "      <td>2019-09-21</td>\n",
       "      <td>29.555556</td>\n",
       "    </tr>\n",
       "  </tbody>\n",
       "</table>\n",
       "</div>"
      ],
      "text/plain": [
       "            City       date  AvgTemperature\n",
       "406288  Brasilia 1996-06-29       13.666667\n",
       "406289  Brasilia 1996-06-30       14.333333\n",
       "407080  Brasilia 1998-09-06       30.000000\n",
       "408563  Brasilia 2002-10-26       30.944444\n",
       "409549  Brasilia 2005-07-10       14.333333\n",
       "414262  Brasilia 2018-06-18       13.388889\n",
       "414713  Brasilia 2019-09-21       29.555556"
      ]
     },
     "execution_count": 103,
     "metadata": {},
     "output_type": "execute_result"
    }
   ],
   "source": [
    "data_brasilia.iloc[clusters == -1]"
   ]
  },
  {
   "cell_type": "code",
   "execution_count": 104,
   "id": "5a79e70a-283f-45f7-9755-421348ff6669",
   "metadata": {
    "tags": []
   },
   "outputs": [
    {
     "data": {
      "text/plain": [
       "15"
      ]
     },
     "execution_count": 104,
     "metadata": {},
     "output_type": "execute_result"
    }
   ],
   "source": [
    "data_pyongyang = data[data[\"City\"] == \"Pyongyang\"]\n",
    "clusters, n_outliers = outlier_detection_dbscan(data_pyongyang[\"AvgTemperature\"], 10, 0.5)\n",
    "n_outliers"
   ]
  },
  {
   "cell_type": "code",
   "execution_count": 109,
   "id": "4fbfe2eb-e2f1-4e7e-9041-afdeaac3b216",
   "metadata": {
    "tags": []
   },
   "outputs": [
    {
     "data": {
      "text/html": [
       "<div>\n",
       "<style scoped>\n",
       "    .dataframe tbody tr th:only-of-type {\n",
       "        vertical-align: middle;\n",
       "    }\n",
       "\n",
       "    .dataframe tbody tr th {\n",
       "        vertical-align: top;\n",
       "    }\n",
       "\n",
       "    .dataframe thead th {\n",
       "        text-align: right;\n",
       "    }\n",
       "</style>\n",
       "<table border=\"1\" class=\"dataframe\">\n",
       "  <thead>\n",
       "    <tr style=\"text-align: right;\">\n",
       "      <th></th>\n",
       "      <th>City</th>\n",
       "      <th>date</th>\n",
       "      <th>AvgTemperature</th>\n",
       "    </tr>\n",
       "  </thead>\n",
       "  <tbody>\n",
       "    <tr>\n",
       "      <th>2010165</th>\n",
       "      <td>Pyongyang</td>\n",
       "      <td>2000-08-17</td>\n",
       "      <td>31.000000</td>\n",
       "    </tr>\n",
       "    <tr>\n",
       "      <th>2010309</th>\n",
       "      <td>Pyongyang</td>\n",
       "      <td>2001-01-11</td>\n",
       "      <td>-17.388889</td>\n",
       "    </tr>\n",
       "    <tr>\n",
       "      <th>2010310</th>\n",
       "      <td>Pyongyang</td>\n",
       "      <td>2001-01-12</td>\n",
       "      <td>-18.055556</td>\n",
       "    </tr>\n",
       "    <tr>\n",
       "      <th>2010311</th>\n",
       "      <td>Pyongyang</td>\n",
       "      <td>2001-01-13</td>\n",
       "      <td>-17.611111</td>\n",
       "    </tr>\n",
       "    <tr>\n",
       "      <th>2010312</th>\n",
       "      <td>Pyongyang</td>\n",
       "      <td>2001-01-14</td>\n",
       "      <td>-19.666667</td>\n",
       "    </tr>\n",
       "    <tr>\n",
       "      <th>2010313</th>\n",
       "      <td>Pyongyang</td>\n",
       "      <td>2001-01-15</td>\n",
       "      <td>-20.388889</td>\n",
       "    </tr>\n",
       "    <tr>\n",
       "      <th>2010314</th>\n",
       "      <td>Pyongyang</td>\n",
       "      <td>2001-01-16</td>\n",
       "      <td>-19.722222</td>\n",
       "    </tr>\n",
       "    <tr>\n",
       "      <th>2011396</th>\n",
       "      <td>Pyongyang</td>\n",
       "      <td>2004-01-21</td>\n",
       "      <td>-17.277778</td>\n",
       "    </tr>\n",
       "    <tr>\n",
       "      <th>2014160</th>\n",
       "      <td>Pyongyang</td>\n",
       "      <td>2012-02-02</td>\n",
       "      <td>-16.055556</td>\n",
       "    </tr>\n",
       "    <tr>\n",
       "      <th>2014495</th>\n",
       "      <td>Pyongyang</td>\n",
       "      <td>2013-01-02</td>\n",
       "      <td>-16.166667</td>\n",
       "    </tr>\n",
       "    <tr>\n",
       "      <th>2014496</th>\n",
       "      <td>Pyongyang</td>\n",
       "      <td>2013-01-03</td>\n",
       "      <td>-16.500000</td>\n",
       "    </tr>\n",
       "    <tr>\n",
       "      <th>2016334</th>\n",
       "      <td>Pyongyang</td>\n",
       "      <td>2018-01-24</td>\n",
       "      <td>-15.944444</td>\n",
       "    </tr>\n",
       "    <tr>\n",
       "      <th>2016523</th>\n",
       "      <td>Pyongyang</td>\n",
       "      <td>2018-08-01</td>\n",
       "      <td>31.666667</td>\n",
       "    </tr>\n",
       "    <tr>\n",
       "      <th>2016524</th>\n",
       "      <td>Pyongyang</td>\n",
       "      <td>2018-08-02</td>\n",
       "      <td>31.500000</td>\n",
       "    </tr>\n",
       "    <tr>\n",
       "      <th>2016525</th>\n",
       "      <td>Pyongyang</td>\n",
       "      <td>2018-08-03</td>\n",
       "      <td>31.888889</td>\n",
       "    </tr>\n",
       "  </tbody>\n",
       "</table>\n",
       "</div>"
      ],
      "text/plain": [
       "              City       date  AvgTemperature\n",
       "2010165  Pyongyang 2000-08-17       31.000000\n",
       "2010309  Pyongyang 2001-01-11      -17.388889\n",
       "2010310  Pyongyang 2001-01-12      -18.055556\n",
       "2010311  Pyongyang 2001-01-13      -17.611111\n",
       "2010312  Pyongyang 2001-01-14      -19.666667\n",
       "2010313  Pyongyang 2001-01-15      -20.388889\n",
       "2010314  Pyongyang 2001-01-16      -19.722222\n",
       "2011396  Pyongyang 2004-01-21      -17.277778\n",
       "2014160  Pyongyang 2012-02-02      -16.055556\n",
       "2014495  Pyongyang 2013-01-02      -16.166667\n",
       "2014496  Pyongyang 2013-01-03      -16.500000\n",
       "2016334  Pyongyang 2018-01-24      -15.944444\n",
       "2016523  Pyongyang 2018-08-01       31.666667\n",
       "2016524  Pyongyang 2018-08-02       31.500000\n",
       "2016525  Pyongyang 2018-08-03       31.888889"
      ]
     },
     "execution_count": 109,
     "metadata": {},
     "output_type": "execute_result"
    }
   ],
   "source": [
    "data_pyongyang[clusters == -1]"
   ]
  },
  {
   "cell_type": "markdown",
   "id": "bb29322c-b669-4bbc-ae0f-b5df2091fb34",
   "metadata": {},
   "source": [
    "In comparison to the former alogrithms, this algo finds outliers also in non-normal distrubted data. This is because it is independant from the complete dataset (e.g. median, mean etc.) but rather compares the current point to its neigbors. "
   ]
  },
  {
   "cell_type": "code",
   "execution_count": null,
   "id": "6fb7d2e5-e651-4b76-86e8-f82b21798a87",
   "metadata": {},
   "outputs": [],
   "source": []
  }
 ],
 "metadata": {
  "kernelspec": {
   "display_name": "Python 3 (ipykernel)",
   "language": "python",
   "name": "python3"
  },
  "language_info": {
   "codemirror_mode": {
    "name": "ipython",
    "version": 3
   },
   "file_extension": ".py",
   "mimetype": "text/x-python",
   "name": "python",
   "nbconvert_exporter": "python",
   "pygments_lexer": "ipython3",
   "version": "3.10.12"
  }
 },
 "nbformat": 4,
 "nbformat_minor": 5
}
